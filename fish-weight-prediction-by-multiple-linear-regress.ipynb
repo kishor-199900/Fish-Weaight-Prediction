{
 "cells": [
  {
   "cell_type": "markdown",
   "id": "812618c8",
   "metadata": {
    "papermill": {
     "duration": 0.084447,
     "end_time": "2022-04-17T18:16:50.014278",
     "exception": false,
     "start_time": "2022-04-17T18:16:49.929831",
     "status": "completed"
    },
    "tags": []
   },
   "source": [
    "# Fish Weight Prediction By Multiple Linear Regression"
   ]
  },
  {
   "cell_type": "markdown",
   "id": "59803278",
   "metadata": {
    "papermill": {
     "duration": 0.075253,
     "end_time": "2022-04-17T18:16:50.172567",
     "exception": false,
     "start_time": "2022-04-17T18:16:50.097314",
     "status": "completed"
    },
    "tags": []
   },
   "source": [
    "# Introduction "
   ]
  },
  {
   "cell_type": "markdown",
   "id": "17f6ea53",
   "metadata": {
    "papermill": {
     "duration": 0.074566,
     "end_time": "2022-04-17T18:16:50.322226",
     "exception": false,
     "start_time": "2022-04-17T18:16:50.247660",
     "status": "completed"
    },
    "tags": []
   },
   "source": [
    "In this study we are using Python 3 environment to create a machine learning model and to predict the weight of the fish which is based on the body parameters of fish species.we are going to use Linear regression model from sklearn library. Since there are multiple features its Multiple/Multi Variable Linear Regression problem.\n",
    "    The aim of this study is to estimate weight of the fish from their measurements through using linear regression model.This study can be improved to use in fish farms. Individual fish swimming in front of the camera can be measured from the video image and the weight of the fish can be estimated through the linear regression model."
   ]
  },
  {
   "cell_type": "markdown",
   "id": "5c5d1301",
   "metadata": {
    "papermill": {
     "duration": 0.075677,
     "end_time": "2022-04-17T18:16:50.473179",
     "exception": false,
     "start_time": "2022-04-17T18:16:50.397502",
     "status": "completed"
    },
    "tags": []
   },
   "source": [
    "# Step 1: Import The Libraries "
   ]
  },
  {
   "cell_type": "markdown",
   "id": "08f72183",
   "metadata": {
    "papermill": {
     "duration": 0.081471,
     "end_time": "2022-04-17T18:16:50.632938",
     "exception": false,
     "start_time": "2022-04-17T18:16:50.551467",
     "status": "completed"
    },
    "tags": []
   },
   "source": [
    "1. numpy            : Numpy is thedata analysis library. It is used for working with arrays and matrices.\n",
    "2. pandas           : pandas is also data analysis as well as data visualization library Used for data manipulation and analysis\n",
    "3. matplotlib       : It’s plotting library, and we are going to use it for data visualization\n",
    "4. seaborn          : It is also data visualization library, based on matplotlib\n",
    "5. linear_model     : Sklearn linear regression model\n",
    "6. train_test_split : helper function from Sklearn library for splitting the dataset"
   ]
  },
  {
   "cell_type": "code",
   "execution_count": 1,
   "id": "eabb4e87",
   "metadata": {
    "execution": {
     "iopub.execute_input": "2022-04-17T18:16:50.799403Z",
     "iopub.status.busy": "2022-04-17T18:16:50.798947Z",
     "iopub.status.idle": "2022-04-17T18:16:52.281499Z",
     "shell.execute_reply": "2022-04-17T18:16:52.280350Z"
    },
    "papermill": {
     "duration": 1.570234,
     "end_time": "2022-04-17T18:16:52.284658",
     "exception": false,
     "start_time": "2022-04-17T18:16:50.714424",
     "status": "completed"
    },
    "tags": []
   },
   "outputs": [],
   "source": [
    "import numpy as np\n",
    "import pandas as pd \n",
    "import seaborn as sns\n",
    "import matplotlib.pyplot as plt\n",
    "from sklearn.linear_model import LinearRegression\n",
    "from sklearn.metrics import mean_squared_error, r2_score"
   ]
  },
  {
   "cell_type": "markdown",
   "id": "f8a278ae",
   "metadata": {
    "papermill": {
     "duration": 0.075858,
     "end_time": "2022-04-17T18:16:52.436382",
     "exception": false,
     "start_time": "2022-04-17T18:16:52.360524",
     "status": "completed"
    },
    "tags": []
   },
   "source": [
    "# Step 2: Load The Dataset"
   ]
  },
  {
   "cell_type": "markdown",
   "id": "3a43505f",
   "metadata": {
    "papermill": {
     "duration": 0.075766,
     "end_time": "2022-04-17T18:16:52.588222",
     "exception": false,
     "start_time": "2022-04-17T18:16:52.512456",
     "status": "completed"
    },
    "tags": []
   },
   "source": [
    ">Our data set name is 'fish parameter.csv' which includes the columns Spacies,Weight,Length1,Length2,Length3,Height,Width"
   ]
  },
  {
   "cell_type": "code",
   "execution_count": 2,
   "id": "421c1c20",
   "metadata": {
    "execution": {
     "iopub.execute_input": "2022-04-17T18:16:52.739747Z",
     "iopub.status.busy": "2022-04-17T18:16:52.739421Z",
     "iopub.status.idle": "2022-04-17T18:16:52.776311Z",
     "shell.execute_reply": "2022-04-17T18:16:52.775077Z"
    },
    "papermill": {
     "duration": 0.115883,
     "end_time": "2022-04-17T18:16:52.779187",
     "exception": false,
     "start_time": "2022-04-17T18:16:52.663304",
     "status": "completed"
    },
    "tags": []
   },
   "outputs": [
    {
     "data": {
      "text/html": [
       "<div>\n",
       "<style scoped>\n",
       "    .dataframe tbody tr th:only-of-type {\n",
       "        vertical-align: middle;\n",
       "    }\n",
       "\n",
       "    .dataframe tbody tr th {\n",
       "        vertical-align: top;\n",
       "    }\n",
       "\n",
       "    .dataframe thead th {\n",
       "        text-align: right;\n",
       "    }\n",
       "</style>\n",
       "<table border=\"1\" class=\"dataframe\">\n",
       "  <thead>\n",
       "    <tr style=\"text-align: right;\">\n",
       "      <th></th>\n",
       "      <th>Species</th>\n",
       "      <th>Weight</th>\n",
       "      <th>Length1</th>\n",
       "      <th>Length2</th>\n",
       "      <th>Length3</th>\n",
       "      <th>Height</th>\n",
       "      <th>Width</th>\n",
       "    </tr>\n",
       "  </thead>\n",
       "  <tbody>\n",
       "    <tr>\n",
       "      <th>0</th>\n",
       "      <td>Bream</td>\n",
       "      <td>242.0</td>\n",
       "      <td>23.2</td>\n",
       "      <td>25.4</td>\n",
       "      <td>30.0</td>\n",
       "      <td>11.5200</td>\n",
       "      <td>4.0200</td>\n",
       "    </tr>\n",
       "    <tr>\n",
       "      <th>1</th>\n",
       "      <td>Bream</td>\n",
       "      <td>290.0</td>\n",
       "      <td>24.0</td>\n",
       "      <td>26.3</td>\n",
       "      <td>31.2</td>\n",
       "      <td>12.4800</td>\n",
       "      <td>4.3056</td>\n",
       "    </tr>\n",
       "    <tr>\n",
       "      <th>2</th>\n",
       "      <td>Bream</td>\n",
       "      <td>340.0</td>\n",
       "      <td>23.9</td>\n",
       "      <td>26.5</td>\n",
       "      <td>31.1</td>\n",
       "      <td>12.3778</td>\n",
       "      <td>4.6961</td>\n",
       "    </tr>\n",
       "    <tr>\n",
       "      <th>3</th>\n",
       "      <td>Bream</td>\n",
       "      <td>363.0</td>\n",
       "      <td>26.3</td>\n",
       "      <td>29.0</td>\n",
       "      <td>33.5</td>\n",
       "      <td>12.7300</td>\n",
       "      <td>4.4555</td>\n",
       "    </tr>\n",
       "    <tr>\n",
       "      <th>4</th>\n",
       "      <td>Bream</td>\n",
       "      <td>430.0</td>\n",
       "      <td>26.5</td>\n",
       "      <td>29.0</td>\n",
       "      <td>34.0</td>\n",
       "      <td>12.4440</td>\n",
       "      <td>5.1340</td>\n",
       "    </tr>\n",
       "  </tbody>\n",
       "</table>\n",
       "</div>"
      ],
      "text/plain": [
       "  Species  Weight  Length1  Length2  Length3   Height   Width\n",
       "0   Bream   242.0     23.2     25.4     30.0  11.5200  4.0200\n",
       "1   Bream   290.0     24.0     26.3     31.2  12.4800  4.3056\n",
       "2   Bream   340.0     23.9     26.5     31.1  12.3778  4.6961\n",
       "3   Bream   363.0     26.3     29.0     33.5  12.7300  4.4555\n",
       "4   Bream   430.0     26.5     29.0     34.0  12.4440  5.1340"
      ]
     },
     "execution_count": 2,
     "metadata": {},
     "output_type": "execute_result"
    }
   ],
   "source": [
    "data = pd.read_csv('../input/fish-weight-prediction/Fish.csv')\n",
    "df = data.copy() # to create the copy of data set and assigned in to the other variabel\n",
    "df.head()  #head(n) returns first n records only.and also we can use sample(n) for random n records."
   ]
  },
  {
   "cell_type": "markdown",
   "id": "082b6601",
   "metadata": {
    "papermill": {
     "duration": 0.07633,
     "end_time": "2022-04-17T18:16:52.932643",
     "exception": false,
     "start_time": "2022-04-17T18:16:52.856313",
     "status": "completed"
    },
    "tags": []
   },
   "source": [
    "# Step 3: Understanding Of The Data"
   ]
  },
  {
   "cell_type": "code",
   "execution_count": 3,
   "id": "ce2b034d",
   "metadata": {
    "execution": {
     "iopub.execute_input": "2022-04-17T18:16:53.085374Z",
     "iopub.status.busy": "2022-04-17T18:16:53.085076Z",
     "iopub.status.idle": "2022-04-17T18:16:53.111441Z",
     "shell.execute_reply": "2022-04-17T18:16:53.110566Z"
    },
    "papermill": {
     "duration": 0.106447,
     "end_time": "2022-04-17T18:16:53.114127",
     "exception": false,
     "start_time": "2022-04-17T18:16:53.007680",
     "status": "completed"
    },
    "tags": []
   },
   "outputs": [
    {
     "name": "stdout",
     "output_type": "stream",
     "text": [
      "<class 'pandas.core.frame.DataFrame'>\n",
      "RangeIndex: 159 entries, 0 to 158\n",
      "Data columns (total 7 columns):\n",
      " #   Column   Non-Null Count  Dtype  \n",
      "---  ------   --------------  -----  \n",
      " 0   Species  159 non-null    object \n",
      " 1   Weight   159 non-null    float64\n",
      " 2   Length1  159 non-null    float64\n",
      " 3   Length2  159 non-null    float64\n",
      " 4   Length3  159 non-null    float64\n",
      " 5   Height   159 non-null    float64\n",
      " 6   Width    159 non-null    float64\n",
      "dtypes: float64(6), object(1)\n",
      "memory usage: 8.8+ KB\n"
     ]
    }
   ],
   "source": [
    "df.info()"
   ]
  },
  {
   "cell_type": "markdown",
   "id": "05a9d3ec",
   "metadata": {
    "papermill": {
     "duration": 0.076434,
     "end_time": "2022-04-17T18:16:53.267426",
     "exception": false,
     "start_time": "2022-04-17T18:16:53.190992",
     "status": "completed"
    },
    "tags": []
   },
   "source": [
    "There are total 159 rows(training samples) and 7 columns in dataset.\n",
    "\n",
    "Each column details are as below:\n",
    "\n",
    "Column Name\t   -        Details\n",
    "1. Species\t   -  Species name of fish\n",
    "2. Weight\t   -  Weight of fish in gram\n",
    "3. Length1\t   -  Vertical length in CM\n",
    "4. Length2\t   -  Diagonal length in CM\n",
    "5. Length3     -  Cross length in CM\n",
    "6. Height\t   -  Height in CM\n",
    "7. Width\t   -  Diagonal width in CM\n",
    "\n",
    "Independent variables --> 'Species', 'Length1','Length2', 'Length3', 'Height' and 'Width'\n",
    "\n",
    "Dependent variable  -->'Weight'\n",
    "So, we have to estimate the weight of the fish based on its measurement values."
   ]
  },
  {
   "cell_type": "markdown",
   "id": "bf54b3ed",
   "metadata": {
    "papermill": {
     "duration": 0.078894,
     "end_time": "2022-04-17T18:16:53.422204",
     "exception": false,
     "start_time": "2022-04-17T18:16:53.343310",
     "status": "completed"
    },
    "tags": []
   },
   "source": [
    "### Basic statistics"
   ]
  },
  {
   "cell_type": "code",
   "execution_count": 4,
   "id": "84642e3f",
   "metadata": {
    "execution": {
     "iopub.execute_input": "2022-04-17T18:16:53.582002Z",
     "iopub.status.busy": "2022-04-17T18:16:53.581726Z",
     "iopub.status.idle": "2022-04-17T18:16:53.615622Z",
     "shell.execute_reply": "2022-04-17T18:16:53.614462Z"
    },
    "papermill": {
     "duration": 0.115945,
     "end_time": "2022-04-17T18:16:53.617939",
     "exception": false,
     "start_time": "2022-04-17T18:16:53.501994",
     "status": "completed"
    },
    "tags": []
   },
   "outputs": [
    {
     "data": {
      "text/html": [
       "<div>\n",
       "<style scoped>\n",
       "    .dataframe tbody tr th:only-of-type {\n",
       "        vertical-align: middle;\n",
       "    }\n",
       "\n",
       "    .dataframe tbody tr th {\n",
       "        vertical-align: top;\n",
       "    }\n",
       "\n",
       "    .dataframe thead th {\n",
       "        text-align: right;\n",
       "    }\n",
       "</style>\n",
       "<table border=\"1\" class=\"dataframe\">\n",
       "  <thead>\n",
       "    <tr style=\"text-align: right;\">\n",
       "      <th></th>\n",
       "      <th>Weight</th>\n",
       "      <th>Length1</th>\n",
       "      <th>Length2</th>\n",
       "      <th>Length3</th>\n",
       "      <th>Height</th>\n",
       "      <th>Width</th>\n",
       "    </tr>\n",
       "  </thead>\n",
       "  <tbody>\n",
       "    <tr>\n",
       "      <th>count</th>\n",
       "      <td>159.000000</td>\n",
       "      <td>159.000000</td>\n",
       "      <td>159.000000</td>\n",
       "      <td>159.000000</td>\n",
       "      <td>159.000000</td>\n",
       "      <td>159.000000</td>\n",
       "    </tr>\n",
       "    <tr>\n",
       "      <th>mean</th>\n",
       "      <td>398.326415</td>\n",
       "      <td>26.247170</td>\n",
       "      <td>28.415723</td>\n",
       "      <td>31.227044</td>\n",
       "      <td>8.970994</td>\n",
       "      <td>4.417486</td>\n",
       "    </tr>\n",
       "    <tr>\n",
       "      <th>std</th>\n",
       "      <td>357.978317</td>\n",
       "      <td>9.996441</td>\n",
       "      <td>10.716328</td>\n",
       "      <td>11.610246</td>\n",
       "      <td>4.286208</td>\n",
       "      <td>1.685804</td>\n",
       "    </tr>\n",
       "    <tr>\n",
       "      <th>min</th>\n",
       "      <td>0.000000</td>\n",
       "      <td>7.500000</td>\n",
       "      <td>8.400000</td>\n",
       "      <td>8.800000</td>\n",
       "      <td>1.728400</td>\n",
       "      <td>1.047600</td>\n",
       "    </tr>\n",
       "    <tr>\n",
       "      <th>25%</th>\n",
       "      <td>120.000000</td>\n",
       "      <td>19.050000</td>\n",
       "      <td>21.000000</td>\n",
       "      <td>23.150000</td>\n",
       "      <td>5.944800</td>\n",
       "      <td>3.385650</td>\n",
       "    </tr>\n",
       "    <tr>\n",
       "      <th>50%</th>\n",
       "      <td>273.000000</td>\n",
       "      <td>25.200000</td>\n",
       "      <td>27.300000</td>\n",
       "      <td>29.400000</td>\n",
       "      <td>7.786000</td>\n",
       "      <td>4.248500</td>\n",
       "    </tr>\n",
       "    <tr>\n",
       "      <th>75%</th>\n",
       "      <td>650.000000</td>\n",
       "      <td>32.700000</td>\n",
       "      <td>35.500000</td>\n",
       "      <td>39.650000</td>\n",
       "      <td>12.365900</td>\n",
       "      <td>5.584500</td>\n",
       "    </tr>\n",
       "    <tr>\n",
       "      <th>max</th>\n",
       "      <td>1650.000000</td>\n",
       "      <td>59.000000</td>\n",
       "      <td>63.400000</td>\n",
       "      <td>68.000000</td>\n",
       "      <td>18.957000</td>\n",
       "      <td>8.142000</td>\n",
       "    </tr>\n",
       "  </tbody>\n",
       "</table>\n",
       "</div>"
      ],
      "text/plain": [
       "            Weight     Length1     Length2     Length3      Height       Width\n",
       "count   159.000000  159.000000  159.000000  159.000000  159.000000  159.000000\n",
       "mean    398.326415   26.247170   28.415723   31.227044    8.970994    4.417486\n",
       "std     357.978317    9.996441   10.716328   11.610246    4.286208    1.685804\n",
       "min       0.000000    7.500000    8.400000    8.800000    1.728400    1.047600\n",
       "25%     120.000000   19.050000   21.000000   23.150000    5.944800    3.385650\n",
       "50%     273.000000   25.200000   27.300000   29.400000    7.786000    4.248500\n",
       "75%     650.000000   32.700000   35.500000   39.650000   12.365900    5.584500\n",
       "max    1650.000000   59.000000   63.400000   68.000000   18.957000    8.142000"
      ]
     },
     "execution_count": 4,
     "metadata": {},
     "output_type": "execute_result"
    }
   ],
   "source": [
    "df.describe()"
   ]
  },
  {
   "cell_type": "markdown",
   "id": "919a3db5",
   "metadata": {
    "papermill": {
     "duration": 0.078089,
     "end_time": "2022-04-17T18:16:53.779109",
     "exception": false,
     "start_time": "2022-04-17T18:16:53.701020",
     "status": "completed"
    },
    "tags": []
   },
   "source": [
    "# Step 4: Data Analysis & Visualization"
   ]
  },
  {
   "cell_type": "markdown",
   "id": "93853695",
   "metadata": {
    "papermill": {
     "duration": 0.076531,
     "end_time": "2022-04-17T18:16:53.934878",
     "exception": false,
     "start_time": "2022-04-17T18:16:53.858347",
     "status": "completed"
    },
    "tags": []
   },
   "source": [
    ">isna() will return 'True' is value is 'None' or 'numpy.NaN'\n",
    "Characters such as empty strings '' or 'numpy.inf' are not considered NA values (unless you set pandas.options.mode.use_inf_as_na = True)\n",
    "you can also use df.isnull()"
   ]
  },
  {
   "cell_type": "code",
   "execution_count": 5,
   "id": "6adfdd66",
   "metadata": {
    "execution": {
     "iopub.execute_input": "2022-04-17T18:16:54.096987Z",
     "iopub.status.busy": "2022-04-17T18:16:54.096606Z",
     "iopub.status.idle": "2022-04-17T18:16:54.105286Z",
     "shell.execute_reply": "2022-04-17T18:16:54.104545Z"
    },
    "papermill": {
     "duration": 0.093707,
     "end_time": "2022-04-17T18:16:54.107099",
     "exception": false,
     "start_time": "2022-04-17T18:16:54.013392",
     "status": "completed"
    },
    "tags": []
   },
   "outputs": [
    {
     "data": {
      "text/plain": [
       "Species    0\n",
       "Weight     0\n",
       "Length1    0\n",
       "Length2    0\n",
       "Length3    0\n",
       "Height     0\n",
       "Width      0\n",
       "dtype: int64"
      ]
     },
     "execution_count": 5,
     "metadata": {},
     "output_type": "execute_result"
    }
   ],
   "source": [
    "df.isnull().sum() # To find out is their any null value in dataset"
   ]
  },
  {
   "cell_type": "markdown",
   "id": "fe8e5f2a",
   "metadata": {
    "papermill": {
     "duration": 0.081702,
     "end_time": "2022-04-17T18:16:54.269426",
     "exception": false,
     "start_time": "2022-04-17T18:16:54.187724",
     "status": "completed"
    },
    "tags": []
   },
   "source": [
    "### Get count for each species"
   ]
  },
  {
   "cell_type": "code",
   "execution_count": 6,
   "id": "e1bd3017",
   "metadata": {
    "execution": {
     "iopub.execute_input": "2022-04-17T18:16:54.430872Z",
     "iopub.status.busy": "2022-04-17T18:16:54.430549Z",
     "iopub.status.idle": "2022-04-17T18:16:54.441719Z",
     "shell.execute_reply": "2022-04-17T18:16:54.440714Z"
    },
    "papermill": {
     "duration": 0.0972,
     "end_time": "2022-04-17T18:16:54.444965",
     "exception": false,
     "start_time": "2022-04-17T18:16:54.347765",
     "status": "completed"
    },
    "tags": []
   },
   "outputs": [
    {
     "name": "stdout",
     "output_type": "stream",
     "text": [
      "           Species\n",
      "Perch           56\n",
      "Bream           35\n",
      "Roach           20\n",
      "Pike            17\n",
      "Smelt           14\n",
      "Parkki          11\n",
      "Whitefish        6\n"
     ]
    },
    {
     "data": {
      "text/plain": [
       "pandas.core.frame.DataFrame"
      ]
     },
     "execution_count": 6,
     "metadata": {},
     "output_type": "execute_result"
    }
   ],
   "source": [
    "sp = df['Species'].value_counts()\n",
    "sp = pd.DataFrame(sp)\n",
    "print(sp)\n",
    "type(sp)\n"
   ]
  },
  {
   "cell_type": "code",
   "execution_count": 7,
   "id": "70ac7085",
   "metadata": {
    "execution": {
     "iopub.execute_input": "2022-04-17T18:16:54.608046Z",
     "iopub.status.busy": "2022-04-17T18:16:54.607714Z",
     "iopub.status.idle": "2022-04-17T18:16:54.795541Z",
     "shell.execute_reply": "2022-04-17T18:16:54.794540Z"
    },
    "papermill": {
     "duration": 0.272854,
     "end_time": "2022-04-17T18:16:54.797871",
     "exception": false,
     "start_time": "2022-04-17T18:16:54.525017",
     "status": "completed"
    },
    "tags": []
   },
   "outputs": [
    {
     "data": {
      "image/png": "[encoded data removed]",
      "text/plain": [
       "<Figure size 432x288 with 1 Axes>"
      ]
     },
     "metadata": {
      "needs_background": "light"
     },
     "output_type": "display_data"
    }
   ],
   "source": [
    "x=sp.index \n",
    "y=sp['Species']\n",
    "c=['g','orange','k','r','b','m','c']\n",
    "plt.barh(x,y,color=c)\n",
    "plt.xlabel('Species')\n",
    "plt.ylabel('Counts of Species')\n",
    "plt.show()"
   ]
  },
  {
   "cell_type": "markdown",
   "id": "036a54a2",
   "metadata": {
    "papermill": {
     "duration": 0.078598,
     "end_time": "2022-04-17T18:16:54.956191",
     "exception": false,
     "start_time": "2022-04-17T18:16:54.877593",
     "status": "completed"
    },
    "tags": []
   },
   "source": [
    "### Note"
   ]
  },
  {
   "cell_type": "markdown",
   "id": "a3f3884c",
   "metadata": {
    "papermill": {
     "duration": 0.080731,
     "end_time": "2022-04-17T18:16:55.115546",
     "exception": false,
     "start_time": "2022-04-17T18:16:55.034815",
     "status": "completed"
    },
    "tags": []
   },
   "source": [
    "\n",
    ">As you can see our dataset is small. We haveing only 6 training example for 'Whitefish' species.\n",
    "Ideal approach would be to divide the dataset and do the prediction for each species. But since we don't have enough data we will ignore the different species during our analysis."
   ]
  },
  {
   "cell_type": "markdown",
   "id": "36483326",
   "metadata": {
    "papermill": {
     "duration": 0.077896,
     "end_time": "2022-04-17T18:16:55.272032",
     "exception": false,
     "start_time": "2022-04-17T18:16:55.194136",
     "status": "completed"
    },
    "tags": []
   },
   "source": [
    "## Data understanding"
   ]
  },
  {
   "cell_type": "markdown",
   "id": "43e6c6f1",
   "metadata": {
    "papermill": {
     "duration": 0.079203,
     "end_time": "2022-04-17T18:16:55.429381",
     "exception": false,
     "start_time": "2022-04-17T18:16:55.350178",
     "status": "completed"
    },
    "tags": []
   },
   "source": [
    ">From above data we observe that their is significant change in statistical parameters due to outliers to obtain maximum output."
   ]
  },
  {
   "cell_type": "markdown",
   "id": "681b6709",
   "metadata": {
    "papermill": {
     "duration": 0.078788,
     "end_time": "2022-04-17T18:16:55.588349",
     "exception": false,
     "start_time": "2022-04-17T18:16:55.509561",
     "status": "completed"
    },
    "tags": []
   },
   "source": [
    "## Correlation checking\n",
    "> Correlation helps us investigate and establish relationships between variables\n",
    "\n",
    "> Note that high amount of correlation between independent variables suggest that linear regression estimation will be unreliable\n"
   ]
  },
  {
   "cell_type": "code",
   "execution_count": 8,
   "id": "6aba75fa",
   "metadata": {
    "execution": {
     "iopub.execute_input": "2022-04-17T18:16:55.750035Z",
     "iopub.status.busy": "2022-04-17T18:16:55.749516Z",
     "iopub.status.idle": "2022-04-17T18:16:55.764630Z",
     "shell.execute_reply": "2022-04-17T18:16:55.763890Z"
    },
    "papermill": {
     "duration": 0.097718,
     "end_time": "2022-04-17T18:16:55.766838",
     "exception": false,
     "start_time": "2022-04-17T18:16:55.669120",
     "status": "completed"
    },
    "tags": []
   },
   "outputs": [
    {
     "data": {
      "text/html": [
       "<div>\n",
       "<style scoped>\n",
       "    .dataframe tbody tr th:only-of-type {\n",
       "        vertical-align: middle;\n",
       "    }\n",
       "\n",
       "    .dataframe tbody tr th {\n",
       "        vertical-align: top;\n",
       "    }\n",
       "\n",
       "    .dataframe thead th {\n",
       "        text-align: right;\n",
       "    }\n",
       "</style>\n",
       "<table border=\"1\" class=\"dataframe\">\n",
       "  <thead>\n",
       "    <tr style=\"text-align: right;\">\n",
       "      <th></th>\n",
       "      <th>Weight</th>\n",
       "      <th>Length1</th>\n",
       "      <th>Length2</th>\n",
       "      <th>Length3</th>\n",
       "      <th>Height</th>\n",
       "      <th>Width</th>\n",
       "    </tr>\n",
       "  </thead>\n",
       "  <tbody>\n",
       "    <tr>\n",
       "      <th>Weight</th>\n",
       "      <td>1.000000</td>\n",
       "      <td>0.915712</td>\n",
       "      <td>0.918618</td>\n",
       "      <td>0.923044</td>\n",
       "      <td>0.724345</td>\n",
       "      <td>0.886507</td>\n",
       "    </tr>\n",
       "    <tr>\n",
       "      <th>Length1</th>\n",
       "      <td>0.915712</td>\n",
       "      <td>1.000000</td>\n",
       "      <td>0.999517</td>\n",
       "      <td>0.992031</td>\n",
       "      <td>0.625378</td>\n",
       "      <td>0.867050</td>\n",
       "    </tr>\n",
       "    <tr>\n",
       "      <th>Length2</th>\n",
       "      <td>0.918618</td>\n",
       "      <td>0.999517</td>\n",
       "      <td>1.000000</td>\n",
       "      <td>0.994103</td>\n",
       "      <td>0.640441</td>\n",
       "      <td>0.873547</td>\n",
       "    </tr>\n",
       "    <tr>\n",
       "      <th>Length3</th>\n",
       "      <td>0.923044</td>\n",
       "      <td>0.992031</td>\n",
       "      <td>0.994103</td>\n",
       "      <td>1.000000</td>\n",
       "      <td>0.703409</td>\n",
       "      <td>0.878520</td>\n",
       "    </tr>\n",
       "    <tr>\n",
       "      <th>Height</th>\n",
       "      <td>0.724345</td>\n",
       "      <td>0.625378</td>\n",
       "      <td>0.640441</td>\n",
       "      <td>0.703409</td>\n",
       "      <td>1.000000</td>\n",
       "      <td>0.792881</td>\n",
       "    </tr>\n",
       "    <tr>\n",
       "      <th>Width</th>\n",
       "      <td>0.886507</td>\n",
       "      <td>0.867050</td>\n",
       "      <td>0.873547</td>\n",
       "      <td>0.878520</td>\n",
       "      <td>0.792881</td>\n",
       "      <td>1.000000</td>\n",
       "    </tr>\n",
       "  </tbody>\n",
       "</table>\n",
       "</div>"
      ],
      "text/plain": [
       "           Weight   Length1   Length2   Length3    Height     Width\n",
       "Weight   1.000000  0.915712  0.918618  0.923044  0.724345  0.886507\n",
       "Length1  0.915712  1.000000  0.999517  0.992031  0.625378  0.867050\n",
       "Length2  0.918618  0.999517  1.000000  0.994103  0.640441  0.873547\n",
       "Length3  0.923044  0.992031  0.994103  1.000000  0.703409  0.878520\n",
       "Height   0.724345  0.625378  0.640441  0.703409  1.000000  0.792881\n",
       "Width    0.886507  0.867050  0.873547  0.878520  0.792881  1.000000"
      ]
     },
     "execution_count": 8,
     "metadata": {},
     "output_type": "execute_result"
    }
   ],
   "source": [
    "df.corr()"
   ]
  },
  {
   "cell_type": "code",
   "execution_count": 9,
   "id": "a502ff1a",
   "metadata": {
    "execution": {
     "iopub.execute_input": "2022-04-17T18:16:55.941836Z",
     "iopub.status.busy": "2022-04-17T18:16:55.941544Z",
     "iopub.status.idle": "2022-04-17T18:16:56.348564Z",
     "shell.execute_reply": "2022-04-17T18:16:56.347571Z"
    },
    "papermill": {
     "duration": 0.504144,
     "end_time": "2022-04-17T18:16:56.350739",
     "exception": false,
     "start_time": "2022-04-17T18:16:55.846595",
     "status": "completed"
    },
    "tags": []
   },
   "outputs": [
    {
     "data": {
      "text/plain": [
       "<AxesSubplot:>"
      ]
     },
     "execution_count": 9,
     "metadata": {},
     "output_type": "execute_result"
    },
    {
     "data": {
      "image/png": "[encoded data removed]",
      "text/plain": [
       "<Figure size 432x288 with 2 Axes>"
      ]
     },
     "metadata": {
      "needs_background": "light"
     },
     "output_type": "display_data"
    }
   ],
   "source": [
    "sns.heatmap(df.corr(), annot=True, cmap='cividis_r')"
   ]
  },
  {
   "cell_type": "markdown",
   "id": "13742fc2",
   "metadata": {
    "papermill": {
     "duration": 0.080851,
     "end_time": "2022-04-17T18:16:56.511796",
     "exception": false,
     "start_time": "2022-04-17T18:16:56.430945",
     "status": "completed"
    },
    "tags": []
   },
   "source": [
    "## How to read correlation matrix :\n",
    "- Correlation coefficient range from -1 to +1\n",
    "\n",
    "- Sign(+/-) indicate the direction and amount indicate the strength of correlation\n",
    "\n",
    "- +1.00 means perfect positive relationship\n",
    "\n",
    "- 0.00 means no relationship\n",
    "\n",
    "- -1.00 means perfect negative relationship\n",
    "\n",
    "- The correlation between 'Length1','Length2','Length3' is almost 1.\n",
    "\n",
    "This will cause 'Multicolinearity' and if we don't take care of it, it may lead to unreliable predictions."
   ]
  },
  {
   "cell_type": "markdown",
   "id": "b4e8081a",
   "metadata": {
    "papermill": {
     "duration": 0.081126,
     "end_time": "2022-04-17T18:16:56.674393",
     "exception": false,
     "start_time": "2022-04-17T18:16:56.593267",
     "status": "completed"
    },
    "tags": []
   },
   "source": [
    "## Pear plot visualization :"
   ]
  },
  {
   "cell_type": "code",
   "execution_count": 10,
   "id": "6380fc73",
   "metadata": {
    "execution": {
     "iopub.execute_input": "2022-04-17T18:16:56.837204Z",
     "iopub.status.busy": "2022-04-17T18:16:56.836888Z",
     "iopub.status.idle": "2022-04-17T18:17:10.506876Z",
     "shell.execute_reply": "2022-04-17T18:17:10.506129Z"
    },
    "papermill": {
     "duration": 13.758544,
     "end_time": "2022-04-17T18:17:10.513922",
     "exception": false,
     "start_time": "2022-04-17T18:16:56.755378",
     "status": "completed"
    },
    "tags": []
   },
   "outputs": [
    {
     "data": {
      "image/png": "[encoded data removed]",
      "text/plain": [
       "<Figure size 1163.25x1080 with 42 Axes>"
      ]
     },
     "metadata": {
      "needs_background": "light"
     },
     "output_type": "display_data"
    }
   ],
   "source": [
    "g = sns.pairplot(df, kind='scatter', hue='Species')"
   ]
  },
  {
   "cell_type": "markdown",
   "id": "c5608d43",
   "metadata": {
    "papermill": {
     "duration": 0.093785,
     "end_time": "2022-04-17T18:17:10.702907",
     "exception": false,
     "start_time": "2022-04-17T18:17:10.609122",
     "status": "completed"
    },
    "tags": []
   },
   "source": [
    "## Finding and removing outliers -"
   ]
  },
  {
   "cell_type": "markdown",
   "id": "a14c405c",
   "metadata": {
    "papermill": {
     "duration": 0.090704,
     "end_time": "2022-04-17T18:17:10.885592",
     "exception": false,
     "start_time": "2022-04-17T18:17:10.794888",
     "status": "completed"
    },
    "tags": []
   },
   "source": [
    "- Outlier is an extremely high or extremely low value in our data.\n",
    "- Lets use box plot for outlier visualization.\n",
    "\n",
    "- Vertical line on the left side of box plot represent the 'min' value of dataset and vertical line on right side of box plot represent the 'max' value of dataset. Any value which is outside this range is outlier and represented by '*'"
   ]
  },
  {
   "cell_type": "code",
   "execution_count": 11,
   "id": "ca0c4f5b",
   "metadata": {
    "execution": {
     "iopub.execute_input": "2022-04-17T18:17:11.073251Z",
     "iopub.status.busy": "2022-04-17T18:17:11.072770Z",
     "iopub.status.idle": "2022-04-17T18:17:11.237367Z",
     "shell.execute_reply": "2022-04-17T18:17:11.236386Z"
    },
    "papermill": {
     "duration": 0.260285,
     "end_time": "2022-04-17T18:17:11.239537",
     "exception": false,
     "start_time": "2022-04-17T18:17:10.979252",
     "status": "completed"
    },
    "tags": []
   },
   "outputs": [
    {
     "data": {
      "image/png": "[encoded data removed]",
      "text/plain": [
       "<Figure size 432x288 with 1 Axes>"
      ]
     },
     "metadata": {
      "needs_background": "light"
     },
     "output_type": "display_data"
    }
   ],
   "source": [
    "sns.boxplot(x=df['Weight']);"
   ]
  },
  {
   "cell_type": "markdown",
   "id": "2fdb34d7",
   "metadata": {
    "papermill": {
     "duration": 0.094885,
     "end_time": "2022-04-17T18:17:11.426786",
     "exception": false,
     "start_time": "2022-04-17T18:17:11.331901",
     "status": "completed"
    },
    "tags": []
   },
   "source": [
    "From above figure it is clear that there are three outliers.So, we can find out these outliers by using IQR as follows :"
   ]
  },
  {
   "cell_type": "code",
   "execution_count": 12,
   "id": "6986099a",
   "metadata": {
    "execution": {
     "iopub.execute_input": "2022-04-17T18:17:11.618338Z",
     "iopub.status.busy": "2022-04-17T18:17:11.617723Z",
     "iopub.status.idle": "2022-04-17T18:17:11.626875Z",
     "shell.execute_reply": "2022-04-17T18:17:11.625896Z"
    },
    "papermill": {
     "duration": 0.108899,
     "end_time": "2022-04-17T18:17:11.629261",
     "exception": false,
     "start_time": "2022-04-17T18:17:11.520362",
     "status": "completed"
    },
    "tags": []
   },
   "outputs": [],
   "source": [
    "dfw = df.Weight\n",
    "dfw_Q1 = df.Weight.quantile(0.25)\n",
    "dfw_Q3 = df.Weight.quantile(0.75)\n",
    "from scipy.stats import iqr\n",
    "dfw_IQR=iqr(df['Weight'])\n",
    "dfw_low = dfw_Q1 - (1.5 * dfw_IQR)\n",
    "dfw_top = dfw_Q3 + (1.5 * dfw_IQR)"
   ]
  },
  {
   "cell_type": "code",
   "execution_count": 13,
   "id": "512c432b",
   "metadata": {
    "execution": {
     "iopub.execute_input": "2022-04-17T18:17:11.817675Z",
     "iopub.status.busy": "2022-04-17T18:17:11.817138Z",
     "iopub.status.idle": "2022-04-17T18:17:11.825161Z",
     "shell.execute_reply": "2022-04-17T18:17:11.824495Z"
    },
    "papermill": {
     "duration": 0.103506,
     "end_time": "2022-04-17T18:17:11.827046",
     "exception": false,
     "start_time": "2022-04-17T18:17:11.723540",
     "status": "completed"
    },
    "tags": []
   },
   "outputs": [
    {
     "data": {
      "text/plain": [
       "142    1600.0\n",
       "143    1550.0\n",
       "144    1650.0\n",
       "Name: Weight, dtype: float64"
      ]
     },
     "execution_count": 13,
     "metadata": {},
     "output_type": "execute_result"
    }
   ],
   "source": [
    "dfw_outliers = dfw[(dfw < dfw_low) | (dfw > dfw_top)]\n",
    "dfw_outliers"
   ]
  },
  {
   "cell_type": "code",
   "execution_count": 14,
   "id": "ecb05b4c",
   "metadata": {
    "execution": {
     "iopub.execute_input": "2022-04-17T18:17:12.014765Z",
     "iopub.status.busy": "2022-04-17T18:17:12.013854Z",
     "iopub.status.idle": "2022-04-17T18:17:12.174548Z",
     "shell.execute_reply": "2022-04-17T18:17:12.173699Z"
    },
    "papermill": {
     "duration": 0.2566,
     "end_time": "2022-04-17T18:17:12.176805",
     "exception": false,
     "start_time": "2022-04-17T18:17:11.920205",
     "status": "completed"
    },
    "tags": []
   },
   "outputs": [
    {
     "data": {
      "image/png": "[encoded data removed]",
      "text/plain": [
       "<Figure size 432x288 with 1 Axes>"
      ]
     },
     "metadata": {
      "needs_background": "light"
     },
     "output_type": "display_data"
    }
   ],
   "source": [
    "sns.boxplot(x=df['Length1']);"
   ]
  },
  {
   "cell_type": "code",
   "execution_count": 15,
   "id": "b8ad5f2d",
   "metadata": {
    "execution": {
     "iopub.execute_input": "2022-04-17T18:17:12.364296Z",
     "iopub.status.busy": "2022-04-17T18:17:12.363980Z",
     "iopub.status.idle": "2022-04-17T18:17:12.373115Z",
     "shell.execute_reply": "2022-04-17T18:17:12.372234Z"
    },
    "papermill": {
     "duration": 0.10559,
     "end_time": "2022-04-17T18:17:12.375295",
     "exception": false,
     "start_time": "2022-04-17T18:17:12.269705",
     "status": "completed"
    },
    "tags": []
   },
   "outputs": [],
   "source": [
    "dfl1 = df['Length1']\n",
    "dfl1_Q1 = dfl1.quantile(0.25)\n",
    "dfl1_Q3 = dfl1.quantile(0.75)\n",
    "from scipy.stats import iqr\n",
    "dfl1_IQR=iqr(df['Length1'])\n",
    "dfl1_low = dfl1_Q1 - (1.5 * dfl1_IQR)\n",
    "dfl1_top = dfl1_Q3 + (1.5 * dfl1_IQR)"
   ]
  },
  {
   "cell_type": "code",
   "execution_count": 16,
   "id": "2fe39647",
   "metadata": {
    "execution": {
     "iopub.execute_input": "2022-04-17T18:17:12.564441Z",
     "iopub.status.busy": "2022-04-17T18:17:12.563751Z",
     "iopub.status.idle": "2022-04-17T18:17:12.571027Z",
     "shell.execute_reply": "2022-04-17T18:17:12.570243Z"
    },
    "papermill": {
     "duration": 0.103788,
     "end_time": "2022-04-17T18:17:12.572760",
     "exception": false,
     "start_time": "2022-04-17T18:17:12.468972",
     "status": "completed"
    },
    "tags": []
   },
   "outputs": [
    {
     "data": {
      "text/plain": [
       "142    56.0\n",
       "143    56.0\n",
       "144    59.0\n",
       "Name: Length1, dtype: float64"
      ]
     },
     "execution_count": 16,
     "metadata": {},
     "output_type": "execute_result"
    }
   ],
   "source": [
    "dfl1_outliers = dfl1[(dfl1 < dfl1_low) | (dfl1 > dfl1_top)]\n",
    "dfl1_outliers"
   ]
  },
  {
   "cell_type": "code",
   "execution_count": 17,
   "id": "209f0e45",
   "metadata": {
    "execution": {
     "iopub.execute_input": "2022-04-17T18:17:12.763730Z",
     "iopub.status.busy": "2022-04-17T18:17:12.763232Z",
     "iopub.status.idle": "2022-04-17T18:17:12.933415Z",
     "shell.execute_reply": "2022-04-17T18:17:12.932757Z"
    },
    "papermill": {
     "duration": 0.26925,
     "end_time": "2022-04-17T18:17:12.935429",
     "exception": false,
     "start_time": "2022-04-17T18:17:12.666179",
     "status": "completed"
    },
    "tags": []
   },
   "outputs": [
    {
     "data": {
      "image/png": "[encoded data removed]",
      "text/plain": [
       "<Figure size 432x288 with 1 Axes>"
      ]
     },
     "metadata": {
      "needs_background": "light"
     },
     "output_type": "display_data"
    }
   ],
   "source": [
    "sns.boxplot(x=df['Length2']);"
   ]
  },
  {
   "cell_type": "code",
   "execution_count": 18,
   "id": "90b0a416",
   "metadata": {
    "execution": {
     "iopub.execute_input": "2022-04-17T18:17:13.128168Z",
     "iopub.status.busy": "2022-04-17T18:17:13.127635Z",
     "iopub.status.idle": "2022-04-17T18:17:13.134907Z",
     "shell.execute_reply": "2022-04-17T18:17:13.134343Z"
    },
    "papermill": {
     "duration": 0.106058,
     "end_time": "2022-04-17T18:17:13.136913",
     "exception": false,
     "start_time": "2022-04-17T18:17:13.030855",
     "status": "completed"
    },
    "tags": []
   },
   "outputs": [],
   "source": [
    "dfl2 = df['Length2']\n",
    "dfl2_Q1 = dfl2.quantile(0.25)\n",
    "dfl2_Q3 = dfl2.quantile(0.75)\n",
    "from scipy.stats import iqr\n",
    "dfl2_IQR=iqr(df['Length2'])\n",
    "dfl2_low = dfl2_Q1 - (1.5 * dfl2_IQR)\n",
    "dfl2_top = dfl2_Q3 + (1.5 * dfl2_IQR)"
   ]
  },
  {
   "cell_type": "code",
   "execution_count": 19,
   "id": "03729f27",
   "metadata": {
    "execution": {
     "iopub.execute_input": "2022-04-17T18:17:13.328247Z",
     "iopub.status.busy": "2022-04-17T18:17:13.327682Z",
     "iopub.status.idle": "2022-04-17T18:17:13.334879Z",
     "shell.execute_reply": "2022-04-17T18:17:13.334148Z"
    },
    "papermill": {
     "duration": 0.104655,
     "end_time": "2022-04-17T18:17:13.336654",
     "exception": false,
     "start_time": "2022-04-17T18:17:13.231999",
     "status": "completed"
    },
    "tags": []
   },
   "outputs": [
    {
     "data": {
      "text/plain": [
       "142    60.0\n",
       "143    60.0\n",
       "144    63.4\n",
       "Name: Length2, dtype: float64"
      ]
     },
     "execution_count": 19,
     "metadata": {},
     "output_type": "execute_result"
    }
   ],
   "source": [
    "dfl2_outliers = dfl2[(dfl2 < dfl2_low) | (dfl2 > dfl2_top)]\n",
    "dfl2_outliers"
   ]
  },
  {
   "cell_type": "code",
   "execution_count": 20,
   "id": "c3684ec6",
   "metadata": {
    "execution": {
     "iopub.execute_input": "2022-04-17T18:17:13.526899Z",
     "iopub.status.busy": "2022-04-17T18:17:13.526383Z",
     "iopub.status.idle": "2022-04-17T18:17:13.689203Z",
     "shell.execute_reply": "2022-04-17T18:17:13.688387Z"
    },
    "papermill": {
     "duration": 0.26049,
     "end_time": "2022-04-17T18:17:13.691177",
     "exception": false,
     "start_time": "2022-04-17T18:17:13.430687",
     "status": "completed"
    },
    "tags": []
   },
   "outputs": [
    {
     "data": {
      "image/png": "[encoded data removed]",
      "text/plain": [
       "<Figure size 432x288 with 1 Axes>"
      ]
     },
     "metadata": {
      "needs_background": "light"
     },
     "output_type": "display_data"
    }
   ],
   "source": [
    "sns.boxplot(x=df['Length3']);"
   ]
  },
  {
   "cell_type": "code",
   "execution_count": 21,
   "id": "987d230f",
   "metadata": {
    "execution": {
     "iopub.execute_input": "2022-04-17T18:17:13.885415Z",
     "iopub.status.busy": "2022-04-17T18:17:13.885093Z",
     "iopub.status.idle": "2022-04-17T18:17:13.893633Z",
     "shell.execute_reply": "2022-04-17T18:17:13.892935Z"
    },
    "papermill": {
     "duration": 0.107162,
     "end_time": "2022-04-17T18:17:13.895692",
     "exception": false,
     "start_time": "2022-04-17T18:17:13.788530",
     "status": "completed"
    },
    "tags": []
   },
   "outputs": [],
   "source": [
    "dfl3 = df['Length3']\n",
    "dfl3_Q1 = dfl3.quantile(0.25)\n",
    "dfl3_Q3 = dfl3.quantile(0.75)\n",
    "from scipy.stats import iqr\n",
    "dfl3_IQR=iqr(df['Length2'])\n",
    "dfl3_low = dfl3_Q1 - (1.5 * dfl3_IQR)\n",
    "dfl3_top = dfl3_Q3 + (1.5 * dfl3_IQR)"
   ]
  },
  {
   "cell_type": "code",
   "execution_count": 22,
   "id": "9b07a08b",
   "metadata": {
    "execution": {
     "iopub.execute_input": "2022-04-17T18:17:14.087988Z",
     "iopub.status.busy": "2022-04-17T18:17:14.087470Z",
     "iopub.status.idle": "2022-04-17T18:17:14.096406Z",
     "shell.execute_reply": "2022-04-17T18:17:14.095566Z"
    },
    "papermill": {
     "duration": 0.107647,
     "end_time": "2022-04-17T18:17:14.098569",
     "exception": false,
     "start_time": "2022-04-17T18:17:13.990922",
     "status": "completed"
    },
    "tags": []
   },
   "outputs": [
    {
     "data": {
      "text/plain": [
       "142    64.0\n",
       "143    64.0\n",
       "144    68.0\n",
       "Name: Length3, dtype: float64"
      ]
     },
     "execution_count": 22,
     "metadata": {},
     "output_type": "execute_result"
    }
   ],
   "source": [
    "dfl3_outliers = dfl3[(dfl3 < dfl3_low) | (dfl3 > dfl3_top)]\n",
    "dfl3_outliers"
   ]
  },
  {
   "cell_type": "code",
   "execution_count": 23,
   "id": "9d7fbf24",
   "metadata": {
    "execution": {
     "iopub.execute_input": "2022-04-17T18:17:14.294698Z",
     "iopub.status.busy": "2022-04-17T18:17:14.294154Z",
     "iopub.status.idle": "2022-04-17T18:17:14.300285Z",
     "shell.execute_reply": "2022-04-17T18:17:14.299461Z"
    },
    "papermill": {
     "duration": 0.106073,
     "end_time": "2022-04-17T18:17:14.302296",
     "exception": false,
     "start_time": "2022-04-17T18:17:14.196223",
     "status": "completed"
    },
    "tags": []
   },
   "outputs": [
    {
     "data": {
      "text/plain": [
       "(14.5, 1.3999999999999986, 61.400000000000006)"
      ]
     },
     "execution_count": 23,
     "metadata": {},
     "output_type": "execute_result"
    }
   ],
   "source": [
    "dfl3_IQR,dfl3_low,dfl3_top"
   ]
  },
  {
   "cell_type": "code",
   "execution_count": 24,
   "id": "b999a89b",
   "metadata": {
    "execution": {
     "iopub.execute_input": "2022-04-17T18:17:14.496674Z",
     "iopub.status.busy": "2022-04-17T18:17:14.496097Z",
     "iopub.status.idle": "2022-04-17T18:17:14.512280Z",
     "shell.execute_reply": "2022-04-17T18:17:14.511174Z"
    },
    "papermill": {
     "duration": 0.116006,
     "end_time": "2022-04-17T18:17:14.514794",
     "exception": false,
     "start_time": "2022-04-17T18:17:14.398788",
     "status": "completed"
    },
    "tags": []
   },
   "outputs": [
    {
     "data": {
      "text/html": [
       "<div>\n",
       "<style scoped>\n",
       "    .dataframe tbody tr th:only-of-type {\n",
       "        vertical-align: middle;\n",
       "    }\n",
       "\n",
       "    .dataframe tbody tr th {\n",
       "        vertical-align: top;\n",
       "    }\n",
       "\n",
       "    .dataframe thead th {\n",
       "        text-align: right;\n",
       "    }\n",
       "</style>\n",
       "<table border=\"1\" class=\"dataframe\">\n",
       "  <thead>\n",
       "    <tr style=\"text-align: right;\">\n",
       "      <th></th>\n",
       "      <th>Species</th>\n",
       "      <th>Weight</th>\n",
       "      <th>Length1</th>\n",
       "      <th>Length2</th>\n",
       "      <th>Length3</th>\n",
       "      <th>Height</th>\n",
       "      <th>Width</th>\n",
       "    </tr>\n",
       "  </thead>\n",
       "  <tbody>\n",
       "    <tr>\n",
       "      <th>142</th>\n",
       "      <td>Pike</td>\n",
       "      <td>1600.0</td>\n",
       "      <td>56.0</td>\n",
       "      <td>60.0</td>\n",
       "      <td>64.0</td>\n",
       "      <td>9.600</td>\n",
       "      <td>6.144</td>\n",
       "    </tr>\n",
       "    <tr>\n",
       "      <th>143</th>\n",
       "      <td>Pike</td>\n",
       "      <td>1550.0</td>\n",
       "      <td>56.0</td>\n",
       "      <td>60.0</td>\n",
       "      <td>64.0</td>\n",
       "      <td>9.600</td>\n",
       "      <td>6.144</td>\n",
       "    </tr>\n",
       "    <tr>\n",
       "      <th>144</th>\n",
       "      <td>Pike</td>\n",
       "      <td>1650.0</td>\n",
       "      <td>59.0</td>\n",
       "      <td>63.4</td>\n",
       "      <td>68.0</td>\n",
       "      <td>10.812</td>\n",
       "      <td>7.480</td>\n",
       "    </tr>\n",
       "  </tbody>\n",
       "</table>\n",
       "</div>"
      ],
      "text/plain": [
       "    Species  Weight  Length1  Length2  Length3  Height  Width\n",
       "142    Pike  1600.0     56.0     60.0     64.0   9.600  6.144\n",
       "143    Pike  1550.0     56.0     60.0     64.0   9.600  6.144\n",
       "144    Pike  1650.0     59.0     63.4     68.0  10.812  7.480"
      ]
     },
     "execution_count": 24,
     "metadata": {},
     "output_type": "execute_result"
    }
   ],
   "source": [
    "df[142:145]"
   ]
  },
  {
   "cell_type": "code",
   "execution_count": 25,
   "id": "89e13016",
   "metadata": {
    "execution": {
     "iopub.execute_input": "2022-04-17T18:17:14.717080Z",
     "iopub.status.busy": "2022-04-17T18:17:14.716780Z",
     "iopub.status.idle": "2022-04-17T18:17:14.925155Z",
     "shell.execute_reply": "2022-04-17T18:17:14.924246Z"
    },
    "papermill": {
     "duration": 0.308309,
     "end_time": "2022-04-17T18:17:14.927302",
     "exception": false,
     "start_time": "2022-04-17T18:17:14.618993",
     "status": "completed"
    },
    "tags": []
   },
   "outputs": [
    {
     "data": {
      "image/png": "[encoded data removed]",
      "text/plain": [
       "<Figure size 432x288 with 1 Axes>"
      ]
     },
     "metadata": {
      "needs_background": "light"
     },
     "output_type": "display_data"
    }
   ],
   "source": [
    "x=df['Weight']\n",
    "y=df['Length1']\n",
    "plt.scatter(x,y);"
   ]
  },
  {
   "cell_type": "markdown",
   "id": "006c6417",
   "metadata": {
    "papermill": {
     "duration": 0.097034,
     "end_time": "2022-04-17T18:17:15.120764",
     "exception": false,
     "start_time": "2022-04-17T18:17:15.023730",
     "status": "completed"
    },
    "tags": []
   },
   "source": [
    "##  Remove outliers :"
   ]
  },
  {
   "cell_type": "markdown",
   "id": "5f6c5190",
   "metadata": {
    "papermill": {
     "duration": 0.096817,
     "end_time": "2022-04-17T18:17:15.314797",
     "exception": false,
     "start_time": "2022-04-17T18:17:15.217980",
     "status": "completed"
    },
    "tags": []
   },
   "source": [
    "In our data set index number 142,143 and 144 are the outliers,in our study we are removing entries in the rows of the dataset "
   ]
  },
  {
   "cell_type": "code",
   "execution_count": 26,
   "id": "0eef4340",
   "metadata": {
    "execution": {
     "iopub.execute_input": "2022-04-17T18:17:15.508761Z",
     "iopub.status.busy": "2022-04-17T18:17:15.508452Z",
     "iopub.status.idle": "2022-04-17T18:17:15.512763Z",
     "shell.execute_reply": "2022-04-17T18:17:15.512148Z"
    },
    "papermill": {
     "duration": 0.103314,
     "end_time": "2022-04-17T18:17:15.514456",
     "exception": false,
     "start_time": "2022-04-17T18:17:15.411142",
     "status": "completed"
    },
    "tags": []
   },
   "outputs": [],
   "source": [
    "df1=df.drop([142,143,144])"
   ]
  },
  {
   "cell_type": "code",
   "execution_count": 27,
   "id": "71485174",
   "metadata": {
    "execution": {
     "iopub.execute_input": "2022-04-17T18:17:15.711271Z",
     "iopub.status.busy": "2022-04-17T18:17:15.710593Z",
     "iopub.status.idle": "2022-04-17T18:17:15.725341Z",
     "shell.execute_reply": "2022-04-17T18:17:15.724647Z"
    },
    "papermill": {
     "duration": 0.11483,
     "end_time": "2022-04-17T18:17:15.727386",
     "exception": false,
     "start_time": "2022-04-17T18:17:15.612556",
     "status": "completed"
    },
    "tags": []
   },
   "outputs": [
    {
     "data": {
      "text/html": [
       "<div>\n",
       "<style scoped>\n",
       "    .dataframe tbody tr th:only-of-type {\n",
       "        vertical-align: middle;\n",
       "    }\n",
       "\n",
       "    .dataframe tbody tr th {\n",
       "        vertical-align: top;\n",
       "    }\n",
       "\n",
       "    .dataframe thead th {\n",
       "        text-align: right;\n",
       "    }\n",
       "</style>\n",
       "<table border=\"1\" class=\"dataframe\">\n",
       "  <thead>\n",
       "    <tr style=\"text-align: right;\">\n",
       "      <th></th>\n",
       "      <th>Species</th>\n",
       "      <th>Weight</th>\n",
       "      <th>Length1</th>\n",
       "      <th>Length2</th>\n",
       "      <th>Length3</th>\n",
       "      <th>Height</th>\n",
       "      <th>Width</th>\n",
       "    </tr>\n",
       "  </thead>\n",
       "  <tbody>\n",
       "    <tr>\n",
       "      <th>0</th>\n",
       "      <td>Bream</td>\n",
       "      <td>242.0</td>\n",
       "      <td>23.2</td>\n",
       "      <td>25.4</td>\n",
       "      <td>30.0</td>\n",
       "      <td>11.5200</td>\n",
       "      <td>4.0200</td>\n",
       "    </tr>\n",
       "    <tr>\n",
       "      <th>1</th>\n",
       "      <td>Bream</td>\n",
       "      <td>290.0</td>\n",
       "      <td>24.0</td>\n",
       "      <td>26.3</td>\n",
       "      <td>31.2</td>\n",
       "      <td>12.4800</td>\n",
       "      <td>4.3056</td>\n",
       "    </tr>\n",
       "    <tr>\n",
       "      <th>2</th>\n",
       "      <td>Bream</td>\n",
       "      <td>340.0</td>\n",
       "      <td>23.9</td>\n",
       "      <td>26.5</td>\n",
       "      <td>31.1</td>\n",
       "      <td>12.3778</td>\n",
       "      <td>4.6961</td>\n",
       "    </tr>\n",
       "    <tr>\n",
       "      <th>3</th>\n",
       "      <td>Bream</td>\n",
       "      <td>363.0</td>\n",
       "      <td>26.3</td>\n",
       "      <td>29.0</td>\n",
       "      <td>33.5</td>\n",
       "      <td>12.7300</td>\n",
       "      <td>4.4555</td>\n",
       "    </tr>\n",
       "    <tr>\n",
       "      <th>4</th>\n",
       "      <td>Bream</td>\n",
       "      <td>430.0</td>\n",
       "      <td>26.5</td>\n",
       "      <td>29.0</td>\n",
       "      <td>34.0</td>\n",
       "      <td>12.4440</td>\n",
       "      <td>5.1340</td>\n",
       "    </tr>\n",
       "  </tbody>\n",
       "</table>\n",
       "</div>"
      ],
      "text/plain": [
       "  Species  Weight  Length1  Length2  Length3   Height   Width\n",
       "0   Bream   242.0     23.2     25.4     30.0  11.5200  4.0200\n",
       "1   Bream   290.0     24.0     26.3     31.2  12.4800  4.3056\n",
       "2   Bream   340.0     23.9     26.5     31.1  12.3778  4.6961\n",
       "3   Bream   363.0     26.3     29.0     33.5  12.7300  4.4555\n",
       "4   Bream   430.0     26.5     29.0     34.0  12.4440  5.1340"
      ]
     },
     "execution_count": 27,
     "metadata": {},
     "output_type": "execute_result"
    }
   ],
   "source": [
    "df1.head()"
   ]
  },
  {
   "cell_type": "code",
   "execution_count": 28,
   "id": "a143f736",
   "metadata": {
    "execution": {
     "iopub.execute_input": "2022-04-17T18:17:15.927822Z",
     "iopub.status.busy": "2022-04-17T18:17:15.927294Z",
     "iopub.status.idle": "2022-04-17T18:17:15.931896Z",
     "shell.execute_reply": "2022-04-17T18:17:15.931349Z"
    },
    "papermill": {
     "duration": 0.108113,
     "end_time": "2022-04-17T18:17:15.933739",
     "exception": false,
     "start_time": "2022-04-17T18:17:15.825626",
     "status": "completed"
    },
    "tags": []
   },
   "outputs": [
    {
     "data": {
      "text/plain": [
       "(156, 7)"
      ]
     },
     "execution_count": 28,
     "metadata": {},
     "output_type": "execute_result"
    }
   ],
   "source": [
    "df1.shape"
   ]
  },
  {
   "cell_type": "code",
   "execution_count": 29,
   "id": "3f25d2a5",
   "metadata": {
    "execution": {
     "iopub.execute_input": "2022-04-17T18:17:16.131541Z",
     "iopub.status.busy": "2022-04-17T18:17:16.131031Z",
     "iopub.status.idle": "2022-04-17T18:17:16.158945Z",
     "shell.execute_reply": "2022-04-17T18:17:16.158400Z"
    },
    "papermill": {
     "duration": 0.128496,
     "end_time": "2022-04-17T18:17:16.160746",
     "exception": false,
     "start_time": "2022-04-17T18:17:16.032250",
     "status": "completed"
    },
    "tags": []
   },
   "outputs": [
    {
     "data": {
      "text/html": [
       "<div>\n",
       "<style scoped>\n",
       "    .dataframe tbody tr th:only-of-type {\n",
       "        vertical-align: middle;\n",
       "    }\n",
       "\n",
       "    .dataframe tbody tr th {\n",
       "        vertical-align: top;\n",
       "    }\n",
       "\n",
       "    .dataframe thead th {\n",
       "        text-align: right;\n",
       "    }\n",
       "</style>\n",
       "<table border=\"1\" class=\"dataframe\">\n",
       "  <thead>\n",
       "    <tr style=\"text-align: right;\">\n",
       "      <th></th>\n",
       "      <th>count</th>\n",
       "      <th>mean</th>\n",
       "      <th>std</th>\n",
       "      <th>min</th>\n",
       "      <th>25%</th>\n",
       "      <th>50%</th>\n",
       "      <th>75%</th>\n",
       "      <th>max</th>\n",
       "    </tr>\n",
       "  </thead>\n",
       "  <tbody>\n",
       "    <tr>\n",
       "      <th>Weight</th>\n",
       "      <td>159.0</td>\n",
       "      <td>398.326415</td>\n",
       "      <td>357.978317</td>\n",
       "      <td>0.0000</td>\n",
       "      <td>120.00000</td>\n",
       "      <td>273.0000</td>\n",
       "      <td>650.0000</td>\n",
       "      <td>1650.000</td>\n",
       "    </tr>\n",
       "    <tr>\n",
       "      <th>Length1</th>\n",
       "      <td>159.0</td>\n",
       "      <td>26.247170</td>\n",
       "      <td>9.996441</td>\n",
       "      <td>7.5000</td>\n",
       "      <td>19.05000</td>\n",
       "      <td>25.2000</td>\n",
       "      <td>32.7000</td>\n",
       "      <td>59.000</td>\n",
       "    </tr>\n",
       "    <tr>\n",
       "      <th>Length2</th>\n",
       "      <td>159.0</td>\n",
       "      <td>28.415723</td>\n",
       "      <td>10.716328</td>\n",
       "      <td>8.4000</td>\n",
       "      <td>21.00000</td>\n",
       "      <td>27.3000</td>\n",
       "      <td>35.5000</td>\n",
       "      <td>63.400</td>\n",
       "    </tr>\n",
       "    <tr>\n",
       "      <th>Length3</th>\n",
       "      <td>159.0</td>\n",
       "      <td>31.227044</td>\n",
       "      <td>11.610246</td>\n",
       "      <td>8.8000</td>\n",
       "      <td>23.15000</td>\n",
       "      <td>29.4000</td>\n",
       "      <td>39.6500</td>\n",
       "      <td>68.000</td>\n",
       "    </tr>\n",
       "    <tr>\n",
       "      <th>Height</th>\n",
       "      <td>159.0</td>\n",
       "      <td>8.970994</td>\n",
       "      <td>4.286208</td>\n",
       "      <td>1.7284</td>\n",
       "      <td>5.94480</td>\n",
       "      <td>7.7860</td>\n",
       "      <td>12.3659</td>\n",
       "      <td>18.957</td>\n",
       "    </tr>\n",
       "    <tr>\n",
       "      <th>Width</th>\n",
       "      <td>159.0</td>\n",
       "      <td>4.417486</td>\n",
       "      <td>1.685804</td>\n",
       "      <td>1.0476</td>\n",
       "      <td>3.38565</td>\n",
       "      <td>4.2485</td>\n",
       "      <td>5.5845</td>\n",
       "      <td>8.142</td>\n",
       "    </tr>\n",
       "  </tbody>\n",
       "</table>\n",
       "</div>"
      ],
      "text/plain": [
       "         count        mean         std     min        25%       50%       75%  \\\n",
       "Weight   159.0  398.326415  357.978317  0.0000  120.00000  273.0000  650.0000   \n",
       "Length1  159.0   26.247170    9.996441  7.5000   19.05000   25.2000   32.7000   \n",
       "Length2  159.0   28.415723   10.716328  8.4000   21.00000   27.3000   35.5000   \n",
       "Length3  159.0   31.227044   11.610246  8.8000   23.15000   29.4000   39.6500   \n",
       "Height   159.0    8.970994    4.286208  1.7284    5.94480    7.7860   12.3659   \n",
       "Width    159.0    4.417486    1.685804  1.0476    3.38565    4.2485    5.5845   \n",
       "\n",
       "              max  \n",
       "Weight   1650.000  \n",
       "Length1    59.000  \n",
       "Length2    63.400  \n",
       "Length3    68.000  \n",
       "Height     18.957  \n",
       "Width       8.142  "
      ]
     },
     "execution_count": 29,
     "metadata": {},
     "output_type": "execute_result"
    }
   ],
   "source": [
    "df.describe().T"
   ]
  },
  {
   "cell_type": "code",
   "execution_count": 30,
   "id": "8ba1f4ee",
   "metadata": {
    "execution": {
     "iopub.execute_input": "2022-04-17T18:17:16.360497Z",
     "iopub.status.busy": "2022-04-17T18:17:16.359972Z",
     "iopub.status.idle": "2022-04-17T18:17:16.387687Z",
     "shell.execute_reply": "2022-04-17T18:17:16.387048Z"
    },
    "papermill": {
     "duration": 0.129996,
     "end_time": "2022-04-17T18:17:16.389640",
     "exception": false,
     "start_time": "2022-04-17T18:17:16.259644",
     "status": "completed"
    },
    "tags": []
   },
   "outputs": [
    {
     "data": {
      "text/html": [
       "<div>\n",
       "<style scoped>\n",
       "    .dataframe tbody tr th:only-of-type {\n",
       "        vertical-align: middle;\n",
       "    }\n",
       "\n",
       "    .dataframe tbody tr th {\n",
       "        vertical-align: top;\n",
       "    }\n",
       "\n",
       "    .dataframe thead th {\n",
       "        text-align: right;\n",
       "    }\n",
       "</style>\n",
       "<table border=\"1\" class=\"dataframe\">\n",
       "  <thead>\n",
       "    <tr style=\"text-align: right;\">\n",
       "      <th></th>\n",
       "      <th>count</th>\n",
       "      <th>mean</th>\n",
       "      <th>std</th>\n",
       "      <th>min</th>\n",
       "      <th>25%</th>\n",
       "      <th>50%</th>\n",
       "      <th>75%</th>\n",
       "      <th>max</th>\n",
       "    </tr>\n",
       "  </thead>\n",
       "  <tbody>\n",
       "    <tr>\n",
       "      <th>Weight</th>\n",
       "      <td>156.0</td>\n",
       "      <td>375.217308</td>\n",
       "      <td>319.546978</td>\n",
       "      <td>0.0000</td>\n",
       "      <td>120.000000</td>\n",
       "      <td>271.0000</td>\n",
       "      <td>612.500000</td>\n",
       "      <td>1250.000</td>\n",
       "    </tr>\n",
       "    <tr>\n",
       "      <th>Length1</th>\n",
       "      <td>156.0</td>\n",
       "      <td>25.655769</td>\n",
       "      <td>9.119630</td>\n",
       "      <td>7.5000</td>\n",
       "      <td>19.000000</td>\n",
       "      <td>25.0000</td>\n",
       "      <td>32.125000</td>\n",
       "      <td>52.000</td>\n",
       "    </tr>\n",
       "    <tr>\n",
       "      <th>Length2</th>\n",
       "      <td>156.0</td>\n",
       "      <td>27.786538</td>\n",
       "      <td>9.792651</td>\n",
       "      <td>8.4000</td>\n",
       "      <td>21.000000</td>\n",
       "      <td>26.7500</td>\n",
       "      <td>35.000000</td>\n",
       "      <td>56.000</td>\n",
       "    </tr>\n",
       "    <tr>\n",
       "      <th>Length3</th>\n",
       "      <td>156.0</td>\n",
       "      <td>30.571154</td>\n",
       "      <td>10.695359</td>\n",
       "      <td>8.8000</td>\n",
       "      <td>23.025000</td>\n",
       "      <td>29.2500</td>\n",
       "      <td>39.425000</td>\n",
       "      <td>59.700</td>\n",
       "    </tr>\n",
       "    <tr>\n",
       "      <th>Height</th>\n",
       "      <td>156.0</td>\n",
       "      <td>8.951128</td>\n",
       "      <td>4.324325</td>\n",
       "      <td>1.7284</td>\n",
       "      <td>5.931675</td>\n",
       "      <td>7.6478</td>\n",
       "      <td>12.378550</td>\n",
       "      <td>18.957</td>\n",
       "    </tr>\n",
       "    <tr>\n",
       "      <th>Width</th>\n",
       "      <td>156.0</td>\n",
       "      <td>4.375719</td>\n",
       "      <td>1.672188</td>\n",
       "      <td>1.0476</td>\n",
       "      <td>3.369600</td>\n",
       "      <td>4.2433</td>\n",
       "      <td>5.424375</td>\n",
       "      <td>8.142</td>\n",
       "    </tr>\n",
       "  </tbody>\n",
       "</table>\n",
       "</div>"
      ],
      "text/plain": [
       "         count        mean         std     min         25%       50%  \\\n",
       "Weight   156.0  375.217308  319.546978  0.0000  120.000000  271.0000   \n",
       "Length1  156.0   25.655769    9.119630  7.5000   19.000000   25.0000   \n",
       "Length2  156.0   27.786538    9.792651  8.4000   21.000000   26.7500   \n",
       "Length3  156.0   30.571154   10.695359  8.8000   23.025000   29.2500   \n",
       "Height   156.0    8.951128    4.324325  1.7284    5.931675    7.6478   \n",
       "Width    156.0    4.375719    1.672188  1.0476    3.369600    4.2433   \n",
       "\n",
       "                75%       max  \n",
       "Weight   612.500000  1250.000  \n",
       "Length1   32.125000    52.000  \n",
       "Length2   35.000000    56.000  \n",
       "Length3   39.425000    59.700  \n",
       "Height    12.378550    18.957  \n",
       "Width      5.424375     8.142  "
      ]
     },
     "execution_count": 30,
     "metadata": {},
     "output_type": "execute_result"
    }
   ],
   "source": [
    "df1.describe().T"
   ]
  },
  {
   "cell_type": "markdown",
   "id": "17075107",
   "metadata": {
    "papermill": {
     "duration": 0.099751,
     "end_time": "2022-04-17T18:17:16.589630",
     "exception": false,
     "start_time": "2022-04-17T18:17:16.489879",
     "status": "completed"
    },
    "tags": []
   },
   "source": [
    "# Step 5: Machine Learning Model"
   ]
  },
  {
   "cell_type": "markdown",
   "id": "cd57a362",
   "metadata": {
    "papermill": {
     "duration": 0.099158,
     "end_time": "2022-04-17T18:17:16.790227",
     "exception": false,
     "start_time": "2022-04-17T18:17:16.691069",
     "status": "completed"
    },
    "tags": []
   },
   "source": [
    ">Create feature/independent variable X and target varible/dependent variable Y"
   ]
  },
  {
   "cell_type": "code",
   "execution_count": 31,
   "id": "f9f2f81f",
   "metadata": {
    "execution": {
     "iopub.execute_input": "2022-04-17T18:17:16.994031Z",
     "iopub.status.busy": "2022-04-17T18:17:16.993568Z",
     "iopub.status.idle": "2022-04-17T18:17:16.997778Z",
     "shell.execute_reply": "2022-04-17T18:17:16.997053Z"
    },
    "papermill": {
     "duration": 0.109067,
     "end_time": "2022-04-17T18:17:16.999949",
     "exception": false,
     "start_time": "2022-04-17T18:17:16.890882",
     "status": "completed"
    },
    "tags": []
   },
   "outputs": [],
   "source": [
    "y = df1['Weight']   #dependent variabel\n",
    "X = df1.iloc[:,2:7]  #independent variabel"
   ]
  },
  {
   "cell_type": "markdown",
   "id": "2ae1835c",
   "metadata": {
    "papermill": {
     "duration": 0.0985,
     "end_time": "2022-04-17T18:17:17.199198",
     "exception": false,
     "start_time": "2022-04-17T18:17:17.100698",
     "status": "completed"
    },
    "tags": []
   },
   "source": [
    "## Create test and train dataset"
   ]
  },
  {
   "cell_type": "markdown",
   "id": "1c57c4b2",
   "metadata": {
    "papermill": {
     "duration": 0.098902,
     "end_time": "2022-04-17T18:17:17.396844",
     "exception": false,
     "start_time": "2022-04-17T18:17:17.297942",
     "status": "completed"
    },
    "tags": []
   },
   "source": [
    ">We will split the dataset in the ratio of 7:3 for training and testing.So, we can use one set for training(X_train,Y_train) and another set for testing(X_test,Y_test)."
   ]
  },
  {
   "cell_type": "code",
   "execution_count": 32,
   "id": "6d32acec",
   "metadata": {
    "execution": {
     "iopub.execute_input": "2022-04-17T18:17:17.596505Z",
     "iopub.status.busy": "2022-04-17T18:17:17.596188Z",
     "iopub.status.idle": "2022-04-17T18:17:17.603159Z",
     "shell.execute_reply": "2022-04-17T18:17:17.602150Z"
    },
    "papermill": {
     "duration": 0.109642,
     "end_time": "2022-04-17T18:17:17.605326",
     "exception": false,
     "start_time": "2022-04-17T18:17:17.495684",
     "status": "completed"
    },
    "tags": []
   },
   "outputs": [],
   "source": [
    "from sklearn.model_selection import train_test_split\n",
    "X_train, X_test, y_train, y_test = train_test_split(X, y,test_size=0.3, random_state=1)"
   ]
  },
  {
   "cell_type": "code",
   "execution_count": 33,
   "id": "1b8782a0",
   "metadata": {
    "execution": {
     "iopub.execute_input": "2022-04-17T18:17:17.806214Z",
     "iopub.status.busy": "2022-04-17T18:17:17.805892Z",
     "iopub.status.idle": "2022-04-17T18:17:17.813864Z",
     "shell.execute_reply": "2022-04-17T18:17:17.812230Z"
    },
    "papermill": {
     "duration": 0.110691,
     "end_time": "2022-04-17T18:17:17.815927",
     "exception": false,
     "start_time": "2022-04-17T18:17:17.705236",
     "status": "completed"
    },
    "tags": []
   },
   "outputs": [
    {
     "name": "stdout",
     "output_type": "stream",
     "text": [
      "X_train shape:  (109, 5)\n",
      "y_train shape:  (109,)\n",
      "X_test shape:  (47, 5)\n",
      "y_test shape:  (47,)\n"
     ]
    }
   ],
   "source": [
    "print('X_train shape: ', np.shape(X_train))\n",
    "print('y_train shape: ', np.shape(y_train))\n",
    "print('X_test shape: ', np.shape(X_test))\n",
    "print('y_test shape: ', np.shape(y_test))"
   ]
  },
  {
   "cell_type": "markdown",
   "id": "d83cd493",
   "metadata": {
    "papermill": {
     "duration": 0.100458,
     "end_time": "2022-04-17T18:17:18.016260",
     "exception": false,
     "start_time": "2022-04-17T18:17:17.915802",
     "status": "completed"
    },
    "tags": []
   },
   "source": [
    "## Multiple Linear Regression Formula :\n",
    "\n",
    ">y = b0 + b1X1 + b2X2 + b3X3 + ... + bnXn\n",
    "\n",
    "y : Dependent variable\n",
    "\n",
    "b0 : Constant\n",
    "\n",
    "b1 - bn : Coefficients\n",
    "\n",
    "X1 - Xn : Independent variables"
   ]
  },
  {
   "cell_type": "markdown",
   "id": "aeb31fd6",
   "metadata": {
    "papermill": {
     "duration": 0.098884,
     "end_time": "2022-04-17T18:17:18.215195",
     "exception": false,
     "start_time": "2022-04-17T18:17:18.116311",
     "status": "completed"
    },
    "tags": []
   },
   "source": [
    "## Model  parameters :"
   ]
  },
  {
   "cell_type": "code",
   "execution_count": 34,
   "id": "728c9064",
   "metadata": {
    "execution": {
     "iopub.execute_input": "2022-04-17T18:17:18.415289Z",
     "iopub.status.busy": "2022-04-17T18:17:18.414964Z",
     "iopub.status.idle": "2022-04-17T18:17:18.435449Z",
     "shell.execute_reply": "2022-04-17T18:17:18.434522Z"
    },
    "papermill": {
     "duration": 0.123306,
     "end_time": "2022-04-17T18:17:18.437544",
     "exception": false,
     "start_time": "2022-04-17T18:17:18.314238",
     "status": "completed"
    },
    "tags": []
   },
   "outputs": [
    {
     "data": {
      "text/plain": [
       "LinearRegression()"
      ]
     },
     "execution_count": 34,
     "metadata": {},
     "output_type": "execute_result"
    }
   ],
   "source": [
    "reg = LinearRegression()\n",
    "reg.fit(X_train,y_train)"
   ]
  },
  {
   "cell_type": "code",
   "execution_count": 35,
   "id": "0254e02e",
   "metadata": {
    "execution": {
     "iopub.execute_input": "2022-04-17T18:17:18.640299Z",
     "iopub.status.busy": "2022-04-17T18:17:18.639713Z",
     "iopub.status.idle": "2022-04-17T18:17:18.645619Z",
     "shell.execute_reply": "2022-04-17T18:17:18.644549Z"
    },
    "papermill": {
     "duration": 0.110461,
     "end_time": "2022-04-17T18:17:18.647699",
     "exception": false,
     "start_time": "2022-04-17T18:17:18.537238",
     "status": "completed"
    },
    "tags": []
   },
   "outputs": [
    {
     "name": "stdout",
     "output_type": "stream",
     "text": [
      "Model intercept:  -411.4439410419045\n",
      "Model coefficients:  [ 97.01851351 -50.94935253 -27.85762748  30.29769788  64.02671324]\n"
     ]
    }
   ],
   "source": [
    "print('Model intercept: ', reg.intercept_)\n",
    "print('Model coefficients: ', reg.coef_)"
   ]
  },
  {
   "cell_type": "code",
   "execution_count": 36,
   "id": "b93b0746",
   "metadata": {
    "execution": {
     "iopub.execute_input": "2022-04-17T18:17:18.853821Z",
     "iopub.status.busy": "2022-04-17T18:17:18.853471Z",
     "iopub.status.idle": "2022-04-17T18:17:18.860092Z",
     "shell.execute_reply": "2022-04-17T18:17:18.859340Z"
    },
    "papermill": {
     "duration": 0.112413,
     "end_time": "2022-04-17T18:17:18.862847",
     "exception": false,
     "start_time": "2022-04-17T18:17:18.750434",
     "status": "completed"
    },
    "tags": []
   },
   "outputs": [
    {
     "name": "stdout",
     "output_type": "stream",
     "text": [
      "y = -411.44 + 97.02*X1 -50.95*X2 -27.86*X3 + 30.30*X4 + 64.03*X5\n"
     ]
    }
   ],
   "source": [
    "print('y = ' + str('%.2f' % reg.intercept_) + ' + ' + str('%.2f' % reg.coef_[0]) + '*X1 ' + str('%.2f' % reg.coef_[1]) + '*X2 ' +\n",
    "      str('%.2f' % reg.coef_[2]) + '*X3 + ' + str('%.2f' % reg.coef_[3]) + '*X4 + ' + str('%.2f' % reg.coef_[4]) + '*X5')"
   ]
  },
  {
   "cell_type": "markdown",
   "id": "977d3b55",
   "metadata": {
    "papermill": {
     "duration": 0.103467,
     "end_time": "2022-04-17T18:17:19.069869",
     "exception": false,
     "start_time": "2022-04-17T18:17:18.966402",
     "status": "completed"
    },
    "tags": []
   },
   "source": [
    "## Prediction by using model"
   ]
  },
  {
   "cell_type": "markdown",
   "id": "a15d808d",
   "metadata": {
    "papermill": {
     "duration": 0.100347,
     "end_time": "2022-04-17T18:17:19.273797",
     "exception": false,
     "start_time": "2022-04-17T18:17:19.173450",
     "status": "completed"
    },
    "tags": []
   },
   "source": [
    "### Predicting weights from train dataset "
   ]
  },
  {
   "cell_type": "code",
   "execution_count": 37,
   "id": "becf0845",
   "metadata": {
    "execution": {
     "iopub.execute_input": "2022-04-17T18:17:19.477602Z",
     "iopub.status.busy": "2022-04-17T18:17:19.477276Z",
     "iopub.status.idle": "2022-04-17T18:17:19.483049Z",
     "shell.execute_reply": "2022-04-17T18:17:19.482098Z"
    },
    "papermill": {
     "duration": 0.109833,
     "end_time": "2022-04-17T18:17:19.485191",
     "exception": false,
     "start_time": "2022-04-17T18:17:19.375358",
     "status": "completed"
    },
    "tags": []
   },
   "outputs": [],
   "source": [
    "y_head = reg.predict(X_train)"
   ]
  },
  {
   "cell_type": "markdown",
   "id": "2775fb68",
   "metadata": {
    "papermill": {
     "duration": 0.102489,
     "end_time": "2022-04-17T18:17:19.689599",
     "exception": false,
     "start_time": "2022-04-17T18:17:19.587110",
     "status": "completed"
    },
    "tags": []
   },
   "source": [
    "### Calculation of r2_score"
   ]
  },
  {
   "cell_type": "code",
   "execution_count": 38,
   "id": "e40a8318",
   "metadata": {
    "execution": {
     "iopub.execute_input": "2022-04-17T18:17:19.893006Z",
     "iopub.status.busy": "2022-04-17T18:17:19.892695Z",
     "iopub.status.idle": "2022-04-17T18:17:19.900105Z",
     "shell.execute_reply": "2022-04-17T18:17:19.899252Z"
    },
    "papermill": {
     "duration": 0.111721,
     "end_time": "2022-04-17T18:17:19.902134",
     "exception": false,
     "start_time": "2022-04-17T18:17:19.790413",
     "status": "completed"
    },
    "tags": []
   },
   "outputs": [
    {
     "data": {
      "text/plain": [
       "0.9112296955551396"
      ]
     },
     "execution_count": 38,
     "metadata": {},
     "output_type": "execute_result"
    }
   ],
   "source": [
    "r2_score(y_train, y_head)"
   ]
  },
  {
   "cell_type": "markdown",
   "id": "653c2a77",
   "metadata": {
    "papermill": {
     "duration": 0.102519,
     "end_time": "2022-04-17T18:17:20.105628",
     "exception": false,
     "start_time": "2022-04-17T18:17:20.003109",
     "status": "completed"
    },
    "tags": []
   },
   "source": [
    ">However, if we modify random state, our train and test samples will differ, as will our model's score. I'm going to use cross validation to get rid of this change:"
   ]
  },
  {
   "cell_type": "markdown",
   "id": "ead4ecc5",
   "metadata": {
    "papermill": {
     "duration": 0.101071,
     "end_time": "2022-04-17T18:17:20.307587",
     "exception": false,
     "start_time": "2022-04-17T18:17:20.206516",
     "status": "completed"
    },
    "tags": []
   },
   "source": [
    "## Cross validation"
   ]
  },
  {
   "cell_type": "code",
   "execution_count": 39,
   "id": "c1df5f2d",
   "metadata": {
    "execution": {
     "iopub.execute_input": "2022-04-17T18:17:20.512396Z",
     "iopub.status.busy": "2022-04-17T18:17:20.512090Z",
     "iopub.status.idle": "2022-04-17T18:17:20.547851Z",
     "shell.execute_reply": "2022-04-17T18:17:20.546470Z"
    },
    "papermill": {
     "duration": 0.141192,
     "end_time": "2022-04-17T18:17:20.551069",
     "exception": false,
     "start_time": "2022-04-17T18:17:20.409877",
     "status": "completed"
    },
    "tags": []
   },
   "outputs": [
    {
     "name": "stdout",
     "output_type": "stream",
     "text": [
      "[0.93553834 0.94364866 0.91796402 0.944122   0.85522612 0.82694609]\n"
     ]
    }
   ],
   "source": [
    "from sklearn.model_selection import cross_val_score\n",
    "cross_val_score_train = cross_val_score(reg, X_train, y_train, cv=6, scoring='r2')\n",
    "print(cross_val_score_train)"
   ]
  },
  {
   "cell_type": "code",
   "execution_count": 40,
   "id": "21246af5",
   "metadata": {
    "execution": {
     "iopub.execute_input": "2022-04-17T18:17:20.770761Z",
     "iopub.status.busy": "2022-04-17T18:17:20.770506Z",
     "iopub.status.idle": "2022-04-17T18:17:20.775915Z",
     "shell.execute_reply": "2022-04-17T18:17:20.775355Z"
    },
    "papermill": {
     "duration": 0.11953,
     "end_time": "2022-04-17T18:17:20.777749",
     "exception": false,
     "start_time": "2022-04-17T18:17:20.658219",
     "status": "completed"
    },
    "tags": []
   },
   "outputs": [
    {
     "data": {
      "text/plain": [
       "0.9039075389512937"
      ]
     },
     "execution_count": 40,
     "metadata": {},
     "output_type": "execute_result"
    }
   ],
   "source": [
    "cross_val_score_train.mean()"
   ]
  },
  {
   "cell_type": "code",
   "execution_count": 41,
   "id": "f4e51978",
   "metadata": {
    "execution": {
     "iopub.execute_input": "2022-04-17T18:17:21.000398Z",
     "iopub.status.busy": "2022-04-17T18:17:20.999436Z",
     "iopub.status.idle": "2022-04-17T18:17:21.006715Z",
     "shell.execute_reply": "2022-04-17T18:17:21.005555Z"
    },
    "papermill": {
     "duration": 0.126861,
     "end_time": "2022-04-17T18:17:21.009522",
     "exception": false,
     "start_time": "2022-04-17T18:17:20.882661",
     "status": "completed"
    },
    "tags": []
   },
   "outputs": [],
   "source": [
    "y_pred = reg.predict(X_test)"
   ]
  },
  {
   "cell_type": "code",
   "execution_count": 42,
   "id": "51e237d8",
   "metadata": {
    "execution": {
     "iopub.execute_input": "2022-04-17T18:17:21.220342Z",
     "iopub.status.busy": "2022-04-17T18:17:21.219821Z",
     "iopub.status.idle": "2022-04-17T18:17:21.225312Z",
     "shell.execute_reply": "2022-04-17T18:17:21.224401Z"
    },
    "papermill": {
     "duration": 0.111467,
     "end_time": "2022-04-17T18:17:21.227501",
     "exception": false,
     "start_time": "2022-04-17T18:17:21.116034",
     "status": "completed"
    },
    "tags": []
   },
   "outputs": [
    {
     "name": "stdout",
     "output_type": "stream",
     "text": [
      "0.8817250665483263\n"
     ]
    }
   ],
   "source": [
    "print(r2_score(y_test, y_pred))"
   ]
  },
  {
   "cell_type": "markdown",
   "id": "4ef55eeb",
   "metadata": {
    "papermill": {
     "duration": 0.101677,
     "end_time": "2022-04-17T18:17:21.432194",
     "exception": false,
     "start_time": "2022-04-17T18:17:21.330517",
     "status": "completed"
    },
    "tags": []
   },
   "source": [
    "# Step:6  Visualization Of Prediction"
   ]
  },
  {
   "cell_type": "code",
   "execution_count": 43,
   "id": "720afaad",
   "metadata": {
    "execution": {
     "iopub.execute_input": "2022-04-17T18:17:21.639562Z",
     "iopub.status.busy": "2022-04-17T18:17:21.639101Z",
     "iopub.status.idle": "2022-04-17T18:17:21.884375Z",
     "shell.execute_reply": "2022-04-17T18:17:21.883561Z"
    },
    "papermill": {
     "duration": 0.352441,
     "end_time": "2022-04-17T18:17:21.886583",
     "exception": false,
     "start_time": "2022-04-17T18:17:21.534142",
     "status": "completed"
    },
    "tags": []
   },
   "outputs": [
    {
     "data": {
      "image/png": "[encoded data removed]",
      "text/plain": [
       "<Figure size 432x288 with 1 Axes>"
      ]
     },
     "metadata": {
      "needs_background": "light"
     },
     "output_type": "display_data"
    }
   ],
   "source": [
    "plt.scatter(X_test['Length1'], y_test, color='r', alpha=0.5)\n",
    "plt.scatter(X_test['Length1'], y_pred, color='k', alpha=0.5)\n",
    "plt.xlabel('Cross Length in cm')\n",
    "plt.ylabel('Weight of the fish')\n",
    "plt.title('Linear Regression Model for Weight Estimation');"
   ]
  },
  {
   "cell_type": "code",
   "execution_count": 44,
   "id": "971cc843",
   "metadata": {
    "execution": {
     "iopub.execute_input": "2022-04-17T18:17:22.096172Z",
     "iopub.status.busy": "2022-04-17T18:17:22.095748Z",
     "iopub.status.idle": "2022-04-17T18:17:22.331878Z",
     "shell.execute_reply": "2022-04-17T18:17:22.331005Z"
    },
    "papermill": {
     "duration": 0.343669,
     "end_time": "2022-04-17T18:17:22.334167",
     "exception": false,
     "start_time": "2022-04-17T18:17:21.990498",
     "status": "completed"
    },
    "tags": []
   },
   "outputs": [
    {
     "data": {
      "image/png": "[encoded data removed]",
      "text/plain": [
       "<Figure size 432x288 with 1 Axes>"
      ]
     },
     "metadata": {
      "needs_background": "light"
     },
     "output_type": "display_data"
    }
   ],
   "source": [
    "plt.scatter(X_test['Length2'], y_test, color='green', alpha=0.6)\n",
    "plt.scatter(X_test['Length2'], y_pred, color='orange', alpha=0.6)\n",
    "plt.xlabel('Vertical Length in cm')\n",
    "plt.ylabel('Weight of the fish')\n",
    "plt.title('Linear Regression Model for fish Weight Estimation');"
   ]
  },
  {
   "cell_type": "code",
   "execution_count": 45,
   "id": "7761c1d7",
   "metadata": {
    "execution": {
     "iopub.execute_input": "2022-04-17T18:17:22.544651Z",
     "iopub.status.busy": "2022-04-17T18:17:22.544342Z",
     "iopub.status.idle": "2022-04-17T18:17:22.784466Z",
     "shell.execute_reply": "2022-04-17T18:17:22.783869Z"
    },
    "papermill": {
     "duration": 0.347832,
     "end_time": "2022-04-17T18:17:22.786460",
     "exception": false,
     "start_time": "2022-04-17T18:17:22.438628",
     "status": "completed"
    },
    "tags": []
   },
   "outputs": [
    {
     "data": {
      "image/png": "[encoded data removed]",
      "text/plain": [
       "<Figure size 432x288 with 1 Axes>"
      ]
     },
     "metadata": {
      "needs_background": "light"
     },
     "output_type": "display_data"
    }
   ],
   "source": [
    "plt.scatter(X_test['Length2'], y_test, color='blue', alpha=0.6)\n",
    "plt.scatter(X_test['Length2'], y_pred, color='violet', alpha=0.6)\n",
    "plt.xlabel('Diagonal Length in cm')\n",
    "plt.ylabel('Weight of the fish')\n",
    "plt.title('Linear Regression Model for Weight Estimation');"
   ]
  },
  {
   "cell_type": "code",
   "execution_count": 46,
   "id": "af302889",
   "metadata": {
    "execution": {
     "iopub.execute_input": "2022-04-17T18:17:22.999715Z",
     "iopub.status.busy": "2022-04-17T18:17:22.998825Z",
     "iopub.status.idle": "2022-04-17T18:17:23.239647Z",
     "shell.execute_reply": "2022-04-17T18:17:23.238794Z"
    },
    "papermill": {
     "duration": 0.349244,
     "end_time": "2022-04-17T18:17:23.241810",
     "exception": false,
     "start_time": "2022-04-17T18:17:22.892566",
     "status": "completed"
    },
    "tags": []
   },
   "outputs": [
    {
     "data": {
      "image/png": "[encoded data removed]",
      "text/plain": [
       "<Figure size 432x288 with 1 Axes>"
      ]
     },
     "metadata": {
      "needs_background": "light"
     },
     "output_type": "display_data"
    }
   ],
   "source": [
    "plt.scatter(X_test['Height'], y_test, color='blue', alpha=0.5)\n",
    "plt.scatter(X_test['Height'], y_pred, color='red', alpha=0.5)\n",
    "plt.xlabel('Height in cm')\n",
    "plt.ylabel('Weight of the fish')\n",
    "plt.title('Linear Regression Model for Weight Estimation');"
   ]
  },
  {
   "cell_type": "code",
   "execution_count": 47,
   "id": "9aa7700e",
   "metadata": {
    "execution": {
     "iopub.execute_input": "2022-04-17T18:17:23.460413Z",
     "iopub.status.busy": "2022-04-17T18:17:23.460082Z",
     "iopub.status.idle": "2022-04-17T18:17:23.706823Z",
     "shell.execute_reply": "2022-04-17T18:17:23.706219Z"
    },
    "papermill": {
     "duration": 0.35942,
     "end_time": "2022-04-17T18:17:23.708866",
     "exception": false,
     "start_time": "2022-04-17T18:17:23.349446",
     "status": "completed"
    },
    "tags": []
   },
   "outputs": [
    {
     "data": {
      "image/png": "[encoded data removed]",
      "text/plain": [
       "<Figure size 432x288 with 1 Axes>"
      ]
     },
     "metadata": {
      "needs_background": "light"
     },
     "output_type": "display_data"
    }
   ],
   "source": [
    "plt.scatter(X_test['Width'], y_test, color='navy', alpha=0.5)\n",
    "plt.scatter(X_test['Width'], y_pred, color='lime', alpha=0.5)\n",
    "plt.xlabel('Width in cm')\n",
    "plt.ylabel('Weight of the fish')\n",
    "plt.title('Linear Regression Model for Weight Estimation');"
   ]
  },
  {
   "cell_type": "markdown",
   "id": "0fdcce5a",
   "metadata": {
    "papermill": {
     "duration": 0.107502,
     "end_time": "2022-04-17T18:17:23.925456",
     "exception": false,
     "start_time": "2022-04-17T18:17:23.817954",
     "status": "completed"
    },
    "tags": []
   },
   "source": [
    "## Comparission of predicted weight with actual weight "
   ]
  },
  {
   "cell_type": "code",
   "execution_count": 48,
   "id": "21f75060",
   "metadata": {
    "execution": {
     "iopub.execute_input": "2022-04-17T18:17:24.145106Z",
     "iopub.status.busy": "2022-04-17T18:17:24.144839Z",
     "iopub.status.idle": "2022-04-17T18:17:24.153955Z",
     "shell.execute_reply": "2022-04-17T18:17:24.153152Z"
    },
    "papermill": {
     "duration": 0.122141,
     "end_time": "2022-04-17T18:17:24.156073",
     "exception": false,
     "start_time": "2022-04-17T18:17:24.033932",
     "status": "completed"
    },
    "tags": []
   },
   "outputs": [
    {
     "data": {
      "text/html": [
       "<div>\n",
       "<style scoped>\n",
       "    .dataframe tbody tr th:only-of-type {\n",
       "        vertical-align: middle;\n",
       "    }\n",
       "\n",
       "    .dataframe tbody tr th {\n",
       "        vertical-align: top;\n",
       "    }\n",
       "\n",
       "    .dataframe thead th {\n",
       "        text-align: right;\n",
       "    }\n",
       "</style>\n",
       "<table border=\"1\" class=\"dataframe\">\n",
       "  <thead>\n",
       "    <tr style=\"text-align: right;\">\n",
       "      <th></th>\n",
       "      <th>Estimated_new_Weight</th>\n",
       "    </tr>\n",
       "  </thead>\n",
       "  <tbody>\n",
       "    <tr>\n",
       "      <th>0</th>\n",
       "      <td>711.166977</td>\n",
       "    </tr>\n",
       "    <tr>\n",
       "      <th>1</th>\n",
       "      <td>46.934904</td>\n",
       "    </tr>\n",
       "    <tr>\n",
       "      <th>2</th>\n",
       "      <td>281.837495</td>\n",
       "    </tr>\n",
       "    <tr>\n",
       "      <th>3</th>\n",
       "      <td>747.677998</td>\n",
       "    </tr>\n",
       "    <tr>\n",
       "      <th>4</th>\n",
       "      <td>-58.721354</td>\n",
       "    </tr>\n",
       "  </tbody>\n",
       "</table>\n",
       "</div>"
      ],
      "text/plain": [
       "   Estimated_new_Weight\n",
       "0            711.166977\n",
       "1             46.934904\n",
       "2            281.837495\n",
       "3            747.677998\n",
       "4            -58.721354"
      ]
     },
     "execution_count": 48,
     "metadata": {},
     "output_type": "execute_result"
    }
   ],
   "source": [
    "y_pred1 = pd.DataFrame(y_pred, columns=['Estimated_new_Weight'])\n",
    "y_pred1.head()"
   ]
  },
  {
   "cell_type": "markdown",
   "id": "08562bdf",
   "metadata": {
    "papermill": {
     "duration": 0.107661,
     "end_time": "2022-04-17T18:17:24.372881",
     "exception": false,
     "start_time": "2022-04-17T18:17:24.265220",
     "status": "completed"
    },
    "tags": []
   },
   "source": [
    ">As you can see from the table above, when real weights are less than 50gm, forecasted weights are negative.\n",
    "Scatter plots can also be used to depict the above comparison."
   ]
  },
  {
   "cell_type": "code",
   "execution_count": 49,
   "id": "a743611c",
   "metadata": {
    "execution": {
     "iopub.execute_input": "2022-04-17T18:17:24.592137Z",
     "iopub.status.busy": "2022-04-17T18:17:24.591804Z",
     "iopub.status.idle": "2022-04-17T18:17:24.602267Z",
     "shell.execute_reply": "2022-04-17T18:17:24.601378Z"
    },
    "papermill": {
     "duration": 0.124198,
     "end_time": "2022-04-17T18:17:24.604846",
     "exception": false,
     "start_time": "2022-04-17T18:17:24.480648",
     "status": "completed"
    },
    "tags": []
   },
   "outputs": [
    {
     "data": {
      "text/html": [
       "<div>\n",
       "<style scoped>\n",
       "    .dataframe tbody tr th:only-of-type {\n",
       "        vertical-align: middle;\n",
       "    }\n",
       "\n",
       "    .dataframe tbody tr th {\n",
       "        vertical-align: top;\n",
       "    }\n",
       "\n",
       "    .dataframe thead th {\n",
       "        text-align: right;\n",
       "    }\n",
       "</style>\n",
       "<table border=\"1\" class=\"dataframe\">\n",
       "  <thead>\n",
       "    <tr style=\"text-align: right;\">\n",
       "      <th></th>\n",
       "      <th>Weight</th>\n",
       "    </tr>\n",
       "  </thead>\n",
       "  <tbody>\n",
       "    <tr>\n",
       "      <th>0</th>\n",
       "      <td>650.0</td>\n",
       "    </tr>\n",
       "    <tr>\n",
       "      <th>1</th>\n",
       "      <td>51.5</td>\n",
       "    </tr>\n",
       "    <tr>\n",
       "      <th>2</th>\n",
       "      <td>180.0</td>\n",
       "    </tr>\n",
       "    <tr>\n",
       "      <th>3</th>\n",
       "      <td>955.0</td>\n",
       "    </tr>\n",
       "    <tr>\n",
       "      <th>4</th>\n",
       "      <td>40.0</td>\n",
       "    </tr>\n",
       "  </tbody>\n",
       "</table>\n",
       "</div>"
      ],
      "text/plain": [
       "   Weight\n",
       "0   650.0\n",
       "1    51.5\n",
       "2   180.0\n",
       "3   955.0\n",
       "4    40.0"
      ]
     },
     "execution_count": 49,
     "metadata": {},
     "output_type": "execute_result"
    }
   ],
   "source": [
    "y_test1 = pd.DataFrame(y_test)\n",
    "y_test1 = y_test1.reset_index(drop=True)\n",
    "y_test1.head()"
   ]
  },
  {
   "cell_type": "code",
   "execution_count": 50,
   "id": "04e3f75a",
   "metadata": {
    "execution": {
     "iopub.execute_input": "2022-04-17T18:17:24.827155Z",
     "iopub.status.busy": "2022-04-17T18:17:24.826741Z",
     "iopub.status.idle": "2022-04-17T18:17:24.843880Z",
     "shell.execute_reply": "2022-04-17T18:17:24.843026Z"
    },
    "papermill": {
     "duration": 0.130284,
     "end_time": "2022-04-17T18:17:24.845929",
     "exception": false,
     "start_time": "2022-04-17T18:17:24.715645",
     "status": "completed"
    },
    "tags": []
   },
   "outputs": [
    {
     "data": {
      "text/html": [
       "<div>\n",
       "<style scoped>\n",
       "    .dataframe tbody tr th:only-of-type {\n",
       "        vertical-align: middle;\n",
       "    }\n",
       "\n",
       "    .dataframe tbody tr th {\n",
       "        vertical-align: top;\n",
       "    }\n",
       "\n",
       "    .dataframe thead th {\n",
       "        text-align: right;\n",
       "    }\n",
       "</style>\n",
       "<table border=\"1\" class=\"dataframe\">\n",
       "  <thead>\n",
       "    <tr style=\"text-align: right;\">\n",
       "      <th></th>\n",
       "      <th>Weight</th>\n",
       "      <th>Estimated_new_Weight</th>\n",
       "    </tr>\n",
       "  </thead>\n",
       "  <tbody>\n",
       "    <tr>\n",
       "      <th>0</th>\n",
       "      <td>650.0</td>\n",
       "      <td>711.166977</td>\n",
       "    </tr>\n",
       "    <tr>\n",
       "      <th>1</th>\n",
       "      <td>51.5</td>\n",
       "      <td>46.934904</td>\n",
       "    </tr>\n",
       "    <tr>\n",
       "      <th>2</th>\n",
       "      <td>180.0</td>\n",
       "      <td>281.837495</td>\n",
       "    </tr>\n",
       "    <tr>\n",
       "      <th>3</th>\n",
       "      <td>955.0</td>\n",
       "      <td>747.677998</td>\n",
       "    </tr>\n",
       "    <tr>\n",
       "      <th>4</th>\n",
       "      <td>40.0</td>\n",
       "      <td>-58.721354</td>\n",
       "    </tr>\n",
       "    <tr>\n",
       "      <th>5</th>\n",
       "      <td>0.0</td>\n",
       "      <td>163.067768</td>\n",
       "    </tr>\n",
       "    <tr>\n",
       "      <th>6</th>\n",
       "      <td>600.0</td>\n",
       "      <td>558.370555</td>\n",
       "    </tr>\n",
       "    <tr>\n",
       "      <th>7</th>\n",
       "      <td>514.0</td>\n",
       "      <td>618.521294</td>\n",
       "    </tr>\n",
       "    <tr>\n",
       "      <th>8</th>\n",
       "      <td>272.0</td>\n",
       "      <td>351.171571</td>\n",
       "    </tr>\n",
       "    <tr>\n",
       "      <th>9</th>\n",
       "      <td>9.8</td>\n",
       "      <td>-144.522093</td>\n",
       "    </tr>\n",
       "    <tr>\n",
       "      <th>10</th>\n",
       "      <td>9.8</td>\n",
       "      <td>-144.229277</td>\n",
       "    </tr>\n",
       "    <tr>\n",
       "      <th>11</th>\n",
       "      <td>78.0</td>\n",
       "      <td>82.781047</td>\n",
       "    </tr>\n",
       "    <tr>\n",
       "      <th>12</th>\n",
       "      <td>150.0</td>\n",
       "      <td>200.306867</td>\n",
       "    </tr>\n",
       "    <tr>\n",
       "      <th>13</th>\n",
       "      <td>110.0</td>\n",
       "      <td>176.492084</td>\n",
       "    </tr>\n",
       "    <tr>\n",
       "      <th>14</th>\n",
       "      <td>135.0</td>\n",
       "      <td>157.079467</td>\n",
       "    </tr>\n",
       "    <tr>\n",
       "      <th>15</th>\n",
       "      <td>450.0</td>\n",
       "      <td>436.403410</td>\n",
       "    </tr>\n",
       "    <tr>\n",
       "      <th>16</th>\n",
       "      <td>1100.0</td>\n",
       "      <td>817.532764</td>\n",
       "    </tr>\n",
       "    <tr>\n",
       "      <th>17</th>\n",
       "      <td>700.0</td>\n",
       "      <td>578.285803</td>\n",
       "    </tr>\n",
       "    <tr>\n",
       "      <th>18</th>\n",
       "      <td>650.0</td>\n",
       "      <td>616.478707</td>\n",
       "    </tr>\n",
       "    <tr>\n",
       "      <th>19</th>\n",
       "      <td>1000.0</td>\n",
       "      <td>763.937133</td>\n",
       "    </tr>\n",
       "    <tr>\n",
       "      <th>20</th>\n",
       "      <td>270.0</td>\n",
       "      <td>279.120267</td>\n",
       "    </tr>\n",
       "    <tr>\n",
       "      <th>21</th>\n",
       "      <td>7.5</td>\n",
       "      <td>-165.357439</td>\n",
       "    </tr>\n",
       "    <tr>\n",
       "      <th>22</th>\n",
       "      <td>6.7</td>\n",
       "      <td>-189.581775</td>\n",
       "    </tr>\n",
       "    <tr>\n",
       "      <th>23</th>\n",
       "      <td>180.0</td>\n",
       "      <td>238.965352</td>\n",
       "    </tr>\n",
       "    <tr>\n",
       "      <th>24</th>\n",
       "      <td>145.0</td>\n",
       "      <td>178.919625</td>\n",
       "    </tr>\n",
       "    <tr>\n",
       "      <th>25</th>\n",
       "      <td>200.0</td>\n",
       "      <td>302.808838</td>\n",
       "    </tr>\n",
       "    <tr>\n",
       "      <th>26</th>\n",
       "      <td>150.0</td>\n",
       "      <td>161.867260</td>\n",
       "    </tr>\n",
       "    <tr>\n",
       "      <th>27</th>\n",
       "      <td>120.0</td>\n",
       "      <td>136.734552</td>\n",
       "    </tr>\n",
       "    <tr>\n",
       "      <th>28</th>\n",
       "      <td>820.0</td>\n",
       "      <td>727.881616</td>\n",
       "    </tr>\n",
       "    <tr>\n",
       "      <th>29</th>\n",
       "      <td>145.0</td>\n",
       "      <td>207.755354</td>\n",
       "    </tr>\n",
       "    <tr>\n",
       "      <th>30</th>\n",
       "      <td>250.0</td>\n",
       "      <td>359.644525</td>\n",
       "    </tr>\n",
       "    <tr>\n",
       "      <th>31</th>\n",
       "      <td>567.0</td>\n",
       "      <td>627.308923</td>\n",
       "    </tr>\n",
       "    <tr>\n",
       "      <th>32</th>\n",
       "      <td>140.0</td>\n",
       "      <td>200.558490</td>\n",
       "    </tr>\n",
       "    <tr>\n",
       "      <th>33</th>\n",
       "      <td>975.0</td>\n",
       "      <td>846.077070</td>\n",
       "    </tr>\n",
       "    <tr>\n",
       "      <th>34</th>\n",
       "      <td>1250.0</td>\n",
       "      <td>888.245137</td>\n",
       "    </tr>\n",
       "    <tr>\n",
       "      <th>35</th>\n",
       "      <td>800.0</td>\n",
       "      <td>677.584770</td>\n",
       "    </tr>\n",
       "    <tr>\n",
       "      <th>36</th>\n",
       "      <td>1000.0</td>\n",
       "      <td>900.796010</td>\n",
       "    </tr>\n",
       "    <tr>\n",
       "      <th>37</th>\n",
       "      <td>300.0</td>\n",
       "      <td>403.554531</td>\n",
       "    </tr>\n",
       "    <tr>\n",
       "      <th>38</th>\n",
       "      <td>10.0</td>\n",
       "      <td>-131.998450</td>\n",
       "    </tr>\n",
       "    <tr>\n",
       "      <th>39</th>\n",
       "      <td>1100.0</td>\n",
       "      <td>874.608305</td>\n",
       "    </tr>\n",
       "    <tr>\n",
       "      <th>40</th>\n",
       "      <td>540.0</td>\n",
       "      <td>572.656190</td>\n",
       "    </tr>\n",
       "    <tr>\n",
       "      <th>41</th>\n",
       "      <td>850.0</td>\n",
       "      <td>686.288485</td>\n",
       "    </tr>\n",
       "    <tr>\n",
       "      <th>42</th>\n",
       "      <td>1000.0</td>\n",
       "      <td>827.377543</td>\n",
       "    </tr>\n",
       "    <tr>\n",
       "      <th>43</th>\n",
       "      <td>840.0</td>\n",
       "      <td>766.546025</td>\n",
       "    </tr>\n",
       "    <tr>\n",
       "      <th>44</th>\n",
       "      <td>390.0</td>\n",
       "      <td>490.727484</td>\n",
       "    </tr>\n",
       "    <tr>\n",
       "      <th>45</th>\n",
       "      <td>700.0</td>\n",
       "      <td>569.437431</td>\n",
       "    </tr>\n",
       "    <tr>\n",
       "      <th>46</th>\n",
       "      <td>32.0</td>\n",
       "      <td>-71.333293</td>\n",
       "    </tr>\n",
       "  </tbody>\n",
       "</table>\n",
       "</div>"
      ],
      "text/plain": [
       "    Weight  Estimated_new_Weight\n",
       "0    650.0            711.166977\n",
       "1     51.5             46.934904\n",
       "2    180.0            281.837495\n",
       "3    955.0            747.677998\n",
       "4     40.0            -58.721354\n",
       "5      0.0            163.067768\n",
       "6    600.0            558.370555\n",
       "7    514.0            618.521294\n",
       "8    272.0            351.171571\n",
       "9      9.8           -144.522093\n",
       "10     9.8           -144.229277\n",
       "11    78.0             82.781047\n",
       "12   150.0            200.306867\n",
       "13   110.0            176.492084\n",
       "14   135.0            157.079467\n",
       "15   450.0            436.403410\n",
       "16  1100.0            817.532764\n",
       "17   700.0            578.285803\n",
       "18   650.0            616.478707\n",
       "19  1000.0            763.937133\n",
       "20   270.0            279.120267\n",
       "21     7.5           -165.357439\n",
       "22     6.7           -189.581775\n",
       "23   180.0            238.965352\n",
       "24   145.0            178.919625\n",
       "25   200.0            302.808838\n",
       "26   150.0            161.867260\n",
       "27   120.0            136.734552\n",
       "28   820.0            727.881616\n",
       "29   145.0            207.755354\n",
       "30   250.0            359.644525\n",
       "31   567.0            627.308923\n",
       "32   140.0            200.558490\n",
       "33   975.0            846.077070\n",
       "34  1250.0            888.245137\n",
       "35   800.0            677.584770\n",
       "36  1000.0            900.796010\n",
       "37   300.0            403.554531\n",
       "38    10.0           -131.998450\n",
       "39  1100.0            874.608305\n",
       "40   540.0            572.656190\n",
       "41   850.0            686.288485\n",
       "42  1000.0            827.377543\n",
       "43   840.0            766.546025\n",
       "44   390.0            490.727484\n",
       "45   700.0            569.437431\n",
       "46    32.0            -71.333293"
      ]
     },
     "execution_count": 50,
     "metadata": {},
     "output_type": "execute_result"
    }
   ],
   "source": [
    "comparission = pd.concat([y_test1, y_pred1], axis=1)\n",
    "comparission"
   ]
  },
  {
   "cell_type": "code",
   "execution_count": 51,
   "id": "33eb5da4",
   "metadata": {
    "execution": {
     "iopub.execute_input": "2022-04-17T18:17:25.070772Z",
     "iopub.status.busy": "2022-04-17T18:17:25.070282Z",
     "iopub.status.idle": "2022-04-17T18:17:25.087300Z",
     "shell.execute_reply": "2022-04-17T18:17:25.086524Z"
    },
    "papermill": {
     "duration": 0.131208,
     "end_time": "2022-04-17T18:17:25.089309",
     "exception": false,
     "start_time": "2022-04-17T18:17:24.958101",
     "status": "completed"
    },
    "tags": []
   },
   "outputs": [
    {
     "data": {
      "text/html": [
       "<div>\n",
       "<style scoped>\n",
       "    .dataframe tbody tr th:only-of-type {\n",
       "        vertical-align: middle;\n",
       "    }\n",
       "\n",
       "    .dataframe tbody tr th {\n",
       "        vertical-align: top;\n",
       "    }\n",
       "\n",
       "    .dataframe thead th {\n",
       "        text-align: right;\n",
       "    }\n",
       "</style>\n",
       "<table border=\"1\" class=\"dataframe\">\n",
       "  <thead>\n",
       "    <tr style=\"text-align: right;\">\n",
       "      <th></th>\n",
       "      <th>Weight</th>\n",
       "      <th>Estimated_new_Weight</th>\n",
       "    </tr>\n",
       "  </thead>\n",
       "  <tbody>\n",
       "    <tr>\n",
       "      <th>0</th>\n",
       "      <td>650.0</td>\n",
       "      <td>711.166977</td>\n",
       "    </tr>\n",
       "    <tr>\n",
       "      <th>1</th>\n",
       "      <td>51.5</td>\n",
       "      <td>46.934904</td>\n",
       "    </tr>\n",
       "    <tr>\n",
       "      <th>2</th>\n",
       "      <td>180.0</td>\n",
       "      <td>281.837495</td>\n",
       "    </tr>\n",
       "    <tr>\n",
       "      <th>3</th>\n",
       "      <td>955.0</td>\n",
       "      <td>747.677998</td>\n",
       "    </tr>\n",
       "    <tr>\n",
       "      <th>4</th>\n",
       "      <td>40.0</td>\n",
       "      <td>-58.721354</td>\n",
       "    </tr>\n",
       "    <tr>\n",
       "      <th>5</th>\n",
       "      <td>0.0</td>\n",
       "      <td>163.067768</td>\n",
       "    </tr>\n",
       "    <tr>\n",
       "      <th>6</th>\n",
       "      <td>600.0</td>\n",
       "      <td>558.370555</td>\n",
       "    </tr>\n",
       "    <tr>\n",
       "      <th>7</th>\n",
       "      <td>514.0</td>\n",
       "      <td>618.521294</td>\n",
       "    </tr>\n",
       "    <tr>\n",
       "      <th>8</th>\n",
       "      <td>272.0</td>\n",
       "      <td>351.171571</td>\n",
       "    </tr>\n",
       "    <tr>\n",
       "      <th>9</th>\n",
       "      <td>9.8</td>\n",
       "      <td>-144.522093</td>\n",
       "    </tr>\n",
       "    <tr>\n",
       "      <th>10</th>\n",
       "      <td>9.8</td>\n",
       "      <td>-144.229277</td>\n",
       "    </tr>\n",
       "    <tr>\n",
       "      <th>11</th>\n",
       "      <td>78.0</td>\n",
       "      <td>82.781047</td>\n",
       "    </tr>\n",
       "    <tr>\n",
       "      <th>12</th>\n",
       "      <td>150.0</td>\n",
       "      <td>200.306867</td>\n",
       "    </tr>\n",
       "    <tr>\n",
       "      <th>13</th>\n",
       "      <td>110.0</td>\n",
       "      <td>176.492084</td>\n",
       "    </tr>\n",
       "    <tr>\n",
       "      <th>14</th>\n",
       "      <td>135.0</td>\n",
       "      <td>157.079467</td>\n",
       "    </tr>\n",
       "    <tr>\n",
       "      <th>15</th>\n",
       "      <td>450.0</td>\n",
       "      <td>436.403410</td>\n",
       "    </tr>\n",
       "    <tr>\n",
       "      <th>16</th>\n",
       "      <td>1100.0</td>\n",
       "      <td>817.532764</td>\n",
       "    </tr>\n",
       "    <tr>\n",
       "      <th>17</th>\n",
       "      <td>700.0</td>\n",
       "      <td>578.285803</td>\n",
       "    </tr>\n",
       "    <tr>\n",
       "      <th>18</th>\n",
       "      <td>650.0</td>\n",
       "      <td>616.478707</td>\n",
       "    </tr>\n",
       "    <tr>\n",
       "      <th>19</th>\n",
       "      <td>1000.0</td>\n",
       "      <td>763.937133</td>\n",
       "    </tr>\n",
       "    <tr>\n",
       "      <th>20</th>\n",
       "      <td>270.0</td>\n",
       "      <td>279.120267</td>\n",
       "    </tr>\n",
       "    <tr>\n",
       "      <th>21</th>\n",
       "      <td>7.5</td>\n",
       "      <td>-165.357439</td>\n",
       "    </tr>\n",
       "    <tr>\n",
       "      <th>22</th>\n",
       "      <td>6.7</td>\n",
       "      <td>-189.581775</td>\n",
       "    </tr>\n",
       "    <tr>\n",
       "      <th>23</th>\n",
       "      <td>180.0</td>\n",
       "      <td>238.965352</td>\n",
       "    </tr>\n",
       "    <tr>\n",
       "      <th>24</th>\n",
       "      <td>145.0</td>\n",
       "      <td>178.919625</td>\n",
       "    </tr>\n",
       "    <tr>\n",
       "      <th>25</th>\n",
       "      <td>200.0</td>\n",
       "      <td>302.808838</td>\n",
       "    </tr>\n",
       "    <tr>\n",
       "      <th>26</th>\n",
       "      <td>150.0</td>\n",
       "      <td>161.867260</td>\n",
       "    </tr>\n",
       "    <tr>\n",
       "      <th>27</th>\n",
       "      <td>120.0</td>\n",
       "      <td>136.734552</td>\n",
       "    </tr>\n",
       "    <tr>\n",
       "      <th>28</th>\n",
       "      <td>820.0</td>\n",
       "      <td>727.881616</td>\n",
       "    </tr>\n",
       "    <tr>\n",
       "      <th>29</th>\n",
       "      <td>145.0</td>\n",
       "      <td>207.755354</td>\n",
       "    </tr>\n",
       "    <tr>\n",
       "      <th>30</th>\n",
       "      <td>250.0</td>\n",
       "      <td>359.644525</td>\n",
       "    </tr>\n",
       "    <tr>\n",
       "      <th>31</th>\n",
       "      <td>567.0</td>\n",
       "      <td>627.308923</td>\n",
       "    </tr>\n",
       "    <tr>\n",
       "      <th>32</th>\n",
       "      <td>140.0</td>\n",
       "      <td>200.558490</td>\n",
       "    </tr>\n",
       "    <tr>\n",
       "      <th>33</th>\n",
       "      <td>975.0</td>\n",
       "      <td>846.077070</td>\n",
       "    </tr>\n",
       "    <tr>\n",
       "      <th>34</th>\n",
       "      <td>1250.0</td>\n",
       "      <td>888.245137</td>\n",
       "    </tr>\n",
       "    <tr>\n",
       "      <th>35</th>\n",
       "      <td>800.0</td>\n",
       "      <td>677.584770</td>\n",
       "    </tr>\n",
       "    <tr>\n",
       "      <th>36</th>\n",
       "      <td>1000.0</td>\n",
       "      <td>900.796010</td>\n",
       "    </tr>\n",
       "    <tr>\n",
       "      <th>37</th>\n",
       "      <td>300.0</td>\n",
       "      <td>403.554531</td>\n",
       "    </tr>\n",
       "    <tr>\n",
       "      <th>38</th>\n",
       "      <td>10.0</td>\n",
       "      <td>-131.998450</td>\n",
       "    </tr>\n",
       "    <tr>\n",
       "      <th>39</th>\n",
       "      <td>1100.0</td>\n",
       "      <td>874.608305</td>\n",
       "    </tr>\n",
       "    <tr>\n",
       "      <th>40</th>\n",
       "      <td>540.0</td>\n",
       "      <td>572.656190</td>\n",
       "    </tr>\n",
       "    <tr>\n",
       "      <th>41</th>\n",
       "      <td>850.0</td>\n",
       "      <td>686.288485</td>\n",
       "    </tr>\n",
       "    <tr>\n",
       "      <th>42</th>\n",
       "      <td>1000.0</td>\n",
       "      <td>827.377543</td>\n",
       "    </tr>\n",
       "    <tr>\n",
       "      <th>43</th>\n",
       "      <td>840.0</td>\n",
       "      <td>766.546025</td>\n",
       "    </tr>\n",
       "    <tr>\n",
       "      <th>44</th>\n",
       "      <td>390.0</td>\n",
       "      <td>490.727484</td>\n",
       "    </tr>\n",
       "    <tr>\n",
       "      <th>45</th>\n",
       "      <td>700.0</td>\n",
       "      <td>569.437431</td>\n",
       "    </tr>\n",
       "    <tr>\n",
       "      <th>46</th>\n",
       "      <td>32.0</td>\n",
       "      <td>-71.333293</td>\n",
       "    </tr>\n",
       "  </tbody>\n",
       "</table>\n",
       "</div>"
      ],
      "text/plain": [
       "    Weight  Estimated_new_Weight\n",
       "0    650.0            711.166977\n",
       "1     51.5             46.934904\n",
       "2    180.0            281.837495\n",
       "3    955.0            747.677998\n",
       "4     40.0            -58.721354\n",
       "5      0.0            163.067768\n",
       "6    600.0            558.370555\n",
       "7    514.0            618.521294\n",
       "8    272.0            351.171571\n",
       "9      9.8           -144.522093\n",
       "10     9.8           -144.229277\n",
       "11    78.0             82.781047\n",
       "12   150.0            200.306867\n",
       "13   110.0            176.492084\n",
       "14   135.0            157.079467\n",
       "15   450.0            436.403410\n",
       "16  1100.0            817.532764\n",
       "17   700.0            578.285803\n",
       "18   650.0            616.478707\n",
       "19  1000.0            763.937133\n",
       "20   270.0            279.120267\n",
       "21     7.5           -165.357439\n",
       "22     6.7           -189.581775\n",
       "23   180.0            238.965352\n",
       "24   145.0            178.919625\n",
       "25   200.0            302.808838\n",
       "26   150.0            161.867260\n",
       "27   120.0            136.734552\n",
       "28   820.0            727.881616\n",
       "29   145.0            207.755354\n",
       "30   250.0            359.644525\n",
       "31   567.0            627.308923\n",
       "32   140.0            200.558490\n",
       "33   975.0            846.077070\n",
       "34  1250.0            888.245137\n",
       "35   800.0            677.584770\n",
       "36  1000.0            900.796010\n",
       "37   300.0            403.554531\n",
       "38    10.0           -131.998450\n",
       "39  1100.0            874.608305\n",
       "40   540.0            572.656190\n",
       "41   850.0            686.288485\n",
       "42  1000.0            827.377543\n",
       "43   840.0            766.546025\n",
       "44   390.0            490.727484\n",
       "45   700.0            569.437431\n",
       "46    32.0            -71.333293"
      ]
     },
     "execution_count": 51,
     "metadata": {},
     "output_type": "execute_result"
    }
   ],
   "source": [
    "new = pd.concat([y_test1, y_pred1], axis=1)\n",
    "new"
   ]
  },
  {
   "cell_type": "code",
   "execution_count": 52,
   "id": "cf09fd86",
   "metadata": {
    "execution": {
     "iopub.execute_input": "2022-04-17T18:17:25.312208Z",
     "iopub.status.busy": "2022-04-17T18:17:25.311796Z",
     "iopub.status.idle": "2022-04-17T18:17:25.874118Z",
     "shell.execute_reply": "2022-04-17T18:17:25.872976Z"
    },
    "papermill": {
     "duration": 0.676735,
     "end_time": "2022-04-17T18:17:25.876550",
     "exception": false,
     "start_time": "2022-04-17T18:17:25.199815",
     "status": "completed"
    },
    "tags": []
   },
   "outputs": [
    {
     "data": {
      "image/png": "[encoded data removed]",
      "text/plain": [
       "<Figure size 360x360 with 1 Axes>"
      ]
     },
     "metadata": {
      "needs_background": "light"
     },
     "output_type": "display_data"
    },
    {
     "data": {
      "image/png": "[encoded data removed]",
      "text/plain": [
       "<Figure size 360x360 with 1 Axes>"
      ]
     },
     "metadata": {
      "needs_background": "light"
     },
     "output_type": "display_data"
    }
   ],
   "source": [
    "sns.relplot(x=np.arange(47),y='Weight',data=new,kind='line',color='r')\n",
    "sns.relplot(x=np.arange(47),y='Estimated_new_Weight',data=new,kind='line',color='green')\n",
    "plt.show()"
   ]
  },
  {
   "cell_type": "code",
   "execution_count": 53,
   "id": "37a530ed",
   "metadata": {
    "execution": {
     "iopub.execute_input": "2022-04-17T18:17:26.109003Z",
     "iopub.status.busy": "2022-04-17T18:17:26.108435Z",
     "iopub.status.idle": "2022-04-17T18:17:26.322293Z",
     "shell.execute_reply": "2022-04-17T18:17:26.321543Z"
    },
    "papermill": {
     "duration": 0.329998,
     "end_time": "2022-04-17T18:17:26.324194",
     "exception": false,
     "start_time": "2022-04-17T18:17:25.994196",
     "status": "completed"
    },
    "tags": []
   },
   "outputs": [
    {
     "data": {
      "image/png": "[encoded data removed]",
      "text/plain": [
       "<Figure size 432x288 with 1 Axes>"
      ]
     },
     "metadata": {
      "needs_background": "light"
     },
     "output_type": "display_data"
    }
   ],
   "source": [
    "x=np.arange(47)\n",
    "y=new['Weight']\n",
    "z=new['Estimated_new_Weight']\n",
    "plt.plot(x,y,color='r',label='Actual weight')\n",
    "plt.plot(x,z,color='g',label='Estimated weight')\n",
    "plt.legend()\n",
    "plt.show()"
   ]
  },
  {
   "cell_type": "markdown",
   "id": "3630d8ab",
   "metadata": {
    "papermill": {
     "duration": 0.114274,
     "end_time": "2022-04-17T18:17:26.555311",
     "exception": false,
     "start_time": "2022-04-17T18:17:26.441037",
     "status": "completed"
    },
    "tags": []
   },
   "source": [
    "# Step:7  Conclusion"
   ]
  },
  {
   "cell_type": "markdown",
   "id": "7719f2b9",
   "metadata": {
    "papermill": {
     "duration": 0.115347,
     "end_time": "2022-04-17T18:17:26.785273",
     "exception": false,
     "start_time": "2022-04-17T18:17:26.669926",
     "status": "completed"
    },
    "tags": []
   },
   "source": [
    "- Our model score is 91.12%, which is excellent enough to start with, as you can see from the above data.\n",
    "- However, one challenge with prediction is the presence of negative weight values. \n",
    "- Every time we solve a problem in machine learning, we make decisions that have an impact on the outcome.\n",
    "- We also made a few decisions, such as treating all species as one due to the short dataset."
   ]
  }
 ],
 "metadata": {
  "kernelspec": {
   "display_name": "Python 3",
   "language": "python",
   "name": "python3"
  },
  "language_info": {
   "codemirror_mode": {
    "name": "ipython",
    "version": 3
   },
   "file_extension": ".py",
   "mimetype": "text/x-python",
   "name": "python",
   "nbconvert_exporter": "python",
   "pygments_lexer": "ipython3",
   "version": "3.7.12"
  },
  "papermill": {
   "default_parameters": {},
   "duration": 49.238264,
   "end_time": "2022-04-17T18:17:27.921134",
   "environment_variables": {},
   "exception": null,
   "input_path": "__notebook__.ipynb",
   "output_path": "__notebook__.ipynb",
   "parameters": {},
   "start_time": "2022-04-17T18:16:38.682870",
   "version": "2.3.4"
  }
 },
 "nbformat": 4,
 "nbformat_minor": 5
}
